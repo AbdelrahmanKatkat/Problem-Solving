{
 "cells": [
  {
   "cell_type": "markdown",
   "id": "2123fad3",
   "metadata": {},
   "source": [
    "According to an old legeng, a long time ago Ankh-Morpork residents did something wrong to miss Fortune, and she cursed them. She said that at some time n snacks of distinct sizes will fall on the city, and the residents should build a Snacktower of them by placing snacks one on another. \n",
    "\n",
    "- Of course, big snacks should be at the bottom of the tower, \n",
    "- while small snacks should be at the top.\n",
    "\n",
    "Years passed, and once different snacks started to fall onto the city, and the residents began to build the Snacktower.However, they faced some troubles. Each day exactly one snack fell onto the city, but their order was strange. So, at some days the residents weren't able to put the new stack on the top of the Snacktower: they had to wait until all the bigger snacks fell. Of course, in order to not to anger miss Fortune again, the residents placed each snack on the top of the tower immediately as they could do it.\n",
    "\n",
    "## Target \n",
    "- Write a program that models the behavior of Ankh-Morpork residents."
   ]
  },
  {
   "cell_type": "markdown",
   "id": "fa92ef44",
   "metadata": {},
   "source": [
    "## Input\n",
    "- The first line contains single integer n (1 ≤ n ≤ 100 000) — the total number of snacks.\n",
    "\n",
    "- The second line contains n integers, the i-th of them equals the size of the snack which fell on the i-th day. Sizes are distinct integers from 1 to n."
   ]
  },
  {
   "cell_type": "markdown",
   "id": "93e7c854",
   "metadata": {},
   "source": [
    "## Output\n",
    "- Print n lines containing size of snack put daily\n",
    "\n",
    "On the i-th of them print the sizes of the snacks which the residents placed on the top of the Snacktower on the i-th day in the order they will do that. If no snack is placed on some day, leave the corresponding line empty."
   ]
  },
  {
   "cell_type": "markdown",
   "id": "a5765535",
   "metadata": {},
   "source": [
    "## Terminology\n",
    "- n snack number\n",
    "- S Snack size\n",
    "- D Daily Snack size put"
   ]
  },
  {
   "cell_type": "code",
   "execution_count": 11,
   "id": "801de412",
   "metadata": {},
   "outputs": [
    {
     "name": "stdout",
     "output_type": "stream",
     "text": [
      "5\n"
     ]
    }
   ],
   "source": [
    "n=int(input())"
   ]
  },
  {
   "cell_type": "code",
   "execution_count": 4,
   "id": "a9be36df",
   "metadata": {},
   "outputs": [
    {
     "name": "stdout",
     "output_type": "stream",
     "text": [
      "4 5 1 2 3\n"
     ]
    }
   ],
   "source": [
    "S=input()"
   ]
  },
  {
   "cell_type": "code",
   "execution_count": 14,
   "id": "f88e21a4",
   "metadata": {},
   "outputs": [],
   "source": [
    "i=0\n",
    "while i<n:\n",
    "    S_list[i]=int(S.split(' ')[i])\n",
    "    i=i+1"
   ]
  },
  {
   "cell_type": "code",
   "execution_count": 15,
   "id": "09749fb4",
   "metadata": {},
   "outputs": [
    {
     "data": {
      "text/plain": [
       "[4, 5, 1, 2, 3]"
      ]
     },
     "execution_count": 15,
     "metadata": {},
     "output_type": "execute_result"
    }
   ],
   "source": [
    "S_list"
   ]
  },
  {
   "cell_type": "code",
   "execution_count": 70,
   "id": "87d46ae3",
   "metadata": {},
   "outputs": [],
   "source": [
    "n_List=[i for i in range(1,n+1)]"
   ]
  },
  {
   "cell_type": "code",
   "execution_count": 71,
   "id": "e78fd6e2",
   "metadata": {},
   "outputs": [],
   "source": [
    "n_List.sort(reverse=True)"
   ]
  },
  {
   "cell_type": "code",
   "execution_count": 72,
   "id": "640f7e37",
   "metadata": {},
   "outputs": [
    {
     "name": "stdout",
     "output_type": "stream",
     "text": [
      "[5, 4, 3, 2, 1]\n"
     ]
    }
   ],
   "source": [
    "print(n_List)"
   ]
  },
  {
   "cell_type": "code",
   "execution_count": 73,
   "id": "6118b62e",
   "metadata": {},
   "outputs": [
    {
     "name": "stdout",
     "output_type": "stream",
     "text": [
      "\n",
      "\n",
      "\n",
      "\n",
      "\n"
     ]
    }
   ],
   "source": [
    "i=0\n",
    "for item in n_List:\n",
    "    while i<n:\n",
    "        if item==S_list[i]:\n",
    "            print()\n",
    "        elif item!=S_list[i]:\n",
    "            print()\n",
    "        i=i+1"
   ]
  },
  {
   "cell_type": "code",
   "execution_count": null,
   "id": "3c2804cb",
   "metadata": {},
   "outputs": [],
   "source": []
  },
  {
   "cell_type": "code",
   "execution_count": null,
   "id": "1ba0743e",
   "metadata": {},
   "outputs": [],
   "source": []
  },
  {
   "cell_type": "code",
   "execution_count": 21,
   "id": "7730d68c",
   "metadata": {},
   "outputs": [],
   "source": [
    "S_Max=max(S_list)"
   ]
  },
  {
   "cell_type": "code",
   "execution_count": 50,
   "id": "30e93703",
   "metadata": {},
   "outputs": [],
   "source": [
    "i=0\n",
    "for item in S_list:\n",
    "    if item==S_Max:\n",
    "        S_Max_index=i\n",
    "    i=i+1"
   ]
  },
  {
   "cell_type": "code",
   "execution_count": 22,
   "id": "e10893c4",
   "metadata": {},
   "outputs": [],
   "source": [
    "def Bubble_sort(list):\n",
    "    y=0\n",
    "    n=len(list)\n",
    "    while y<n-1:\n",
    "        i=0\n",
    "        while i<n-1:\n",
    "            if list[i+1]<list[i]:\n",
    "                temp=list[i]\n",
    "                list[i]=list[i+1]\n",
    "                list[i+1]=temp\n",
    "            i=i+1\n",
    "        y=y+1\n",
    "    return list"
   ]
  },
  {
   "cell_type": "code",
   "execution_count": 54,
   "id": "72a5af70",
   "metadata": {},
   "outputs": [
    {
     "name": "stdout",
     "output_type": "stream",
     "text": [
      "\n",
      "\n",
      "[5, 4]\n"
     ]
    }
   ],
   "source": [
    "i=0\n",
    "Left_S=[]\n",
    "Right_S=[]\n",
    "for i in range(0,n):\n",
    "    if S_list[i]<=S_Max and i<=S_Max_index :\n",
    "        Left_S.append(S_list[i])\n",
    "        print() \n",
    "Left_S.sort(reverse=True)\n",
    "print(Left_S)   "
   ]
  },
  {
   "cell_type": "code",
   "execution_count": null,
   "id": "943f7061",
   "metadata": {},
   "outputs": [],
   "source": [
    "def snack (list,List_Max,List_Max_index):\n",
    "    i=0\n",
    "    index=[]\n",
    "    for item in list:\n",
    "        if item==List_Max:\n",
    "            index.append(i)\n",
    "            snack(list,List_Max-1)\n",
    "        elif item!=List_Max:\n",
    "            print()"
   ]
  },
  {
   "cell_type": "code",
   "execution_count": null,
   "id": "7bfd5c18",
   "metadata": {},
   "outputs": [],
   "source": []
  }
 ],
 "metadata": {
  "kernelspec": {
   "display_name": "Python 3 (ipykernel)",
   "language": "python",
   "name": "python3"
  },
  "language_info": {
   "codemirror_mode": {
    "name": "ipython",
    "version": 3
   },
   "file_extension": ".py",
   "mimetype": "text/x-python",
   "name": "python",
   "nbconvert_exporter": "python",
   "pygments_lexer": "ipython3",
   "version": "3.9.7"
  }
 },
 "nbformat": 4,
 "nbformat_minor": 5
}
