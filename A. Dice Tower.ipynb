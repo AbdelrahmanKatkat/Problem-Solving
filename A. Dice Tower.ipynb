{
 "cells": [
  {
   "cell_type": "code",
   "execution_count": 1,
   "id": "96eaeb79",
   "metadata": {},
   "outputs": [],
   "source": [
    "from IPython.display import Image"
   ]
  },
  {
   "cell_type": "markdown",
   "id": "1cd5e423",
   "metadata": {},
   "source": [
    "A dice is a cube, its faces contain distinct integers from 1 to 6 as black points. The sum of numbers at the opposite dice faces always equals 7. Please note that there are only two dice (these dices are mirror of each other) that satisfy the given constraints (both of them are shown on the picture on the left).\n"
   ]
  },
  {
   "cell_type": "code",
   "execution_count": 2,
   "id": "79e6915d",
   "metadata": {},
   "outputs": [
    {
     "data": {
      "image/png": "[encoded data removed]",
      "text/plain": [
       "<IPython.core.display.Image object>"
      ]
     },
     "execution_count": 2,
     "metadata": {},
     "output_type": "execute_result"
    }
   ],
   "source": [
    "Image('https://espresso.codeforces.com/aaad913af3c7c48c97f89ca39b3028b521d1b181.png')"
   ]
  },
  {
   "cell_type": "markdown",
   "id": "7313cee7",
   "metadata": {},
   "source": [
    "Alice and Bob play dice. Alice has built a tower from n dice. We know that in this tower the adjacent dice contact with faces with distinct numbers. Bob wants to uniquely identify the numbers written on the faces of all dice, from which the tower is built. \n",
    "\n",
    "Unfortunately, Bob is looking at the tower from the face, and so he does not see all the numbers on the faces.\n",
    "\n",
    "## Constraint\n",
    "Bob sees the number on the top of the tower and the numbers on the two adjacent sides (on the right side of the picture shown what Bob sees).\n",
    "\n",
    "\n",
    "## Target\n",
    "Help Bob, tell whether it is possible to uniquely identify the numbers on the faces of all the dice in the tower, or not.\n",
    "\n",
    "## Input\n",
    "- The first line contains a single integer n (1 ≤ n ≤ 100) — the number of dice in the tower.\n",
    "\n",
    "- The second line contains an integer x (1 ≤ x ≤ 6) — the number Bob sees at the top of the tower. \n",
    "\n",
    "- Next n lines contain two space-separated integers each: the i-th line contains numbers ai, bi (1 ≤ ai, bi ≤ 6; ai ≠ bi) — the numbers Bob sees on the two sidelong faces of the i-th dice in the tower.\n",
    "\n",
    "Consider the dice in the tower indexed from top to bottom from 1 to n. That is, the topmost dice has index 1 (the dice whose top face Bob can see). It is guaranteed that it is possible to make a dice tower that will look as described in the input.\n",
    "\n",
    "## Output\n",
    "Print \"YES\" (without the quotes), if it is possible to to uniquely identify the numbers on the faces of all the dice in the tower. If it is impossible, print \"NO\" (without the quotes).\n",
    "\n",
    "### Terminology\n",
    "- n number of dice\n",
    "- x the number on the upper dice\n",
    "- a the number on ths side of a dice\n",
    "- b the number on the other side of a dice\n",
    "### Idea\n",
    "- For the lower dice number to be perdictable all the lower dices figures should be the same like (2,3,4,5) and (4,5,2,3) \n",
    "- I will put all the numbers as a list of lists, and the inner list will be a sorted value for each dice\n",
    "- I will compare all the values in the bigger list and if it's the same then Yes, and if not Then no"
   ]
  },
  {
   "cell_type": "markdown",
   "id": "ac1f8265",
   "metadata": {},
   "source": [
    "## Submitted "
   ]
  },
  {
   "cell_type": "code",
   "execution_count": 47,
   "id": "1a5dbf7d",
   "metadata": {},
   "outputs": [
    {
     "name": "stdout",
     "output_type": "stream",
     "text": [
      "3\n",
      "6\n",
      "3 2\n",
      "5 4\n",
      "2 4\n",
      "YES\n"
     ]
    }
   ],
   "source": [
    "n=int(input())\n",
    "x=int(input())\n",
    "i=0\n",
    "a_b_list=[]\n",
    "while i<n:\n",
    "    a_b=input().split(' ')\n",
    "    a_b=sorted([7-int(a_b[0]),7-int(a_b[1]),int(a_b[0]),int(a_b[1])])\n",
    "    a_b_list.append(a_b)\n",
    "    i=i+1\n",
    "i=0\n",
    "c=1\n",
    "while i<n-1:\n",
    "    if a_b_list[i]==a_b_list[i+1]:\n",
    "        c=c+1\n",
    "    i=i+1\n",
    "if c==n:\n",
    "    print('YES')\n",
    "else: \n",
    "    print('NO')"
   ]
  },
  {
   "cell_type": "markdown",
   "id": "408a1765",
   "metadata": {},
   "source": [
    "## Trials"
   ]
  },
  {
   "cell_type": "code",
   "execution_count": 43,
   "id": "872bee86",
   "metadata": {},
   "outputs": [
    {
     "name": "stdout",
     "output_type": "stream",
     "text": [
      "3\n",
      "3\n"
     ]
    }
   ],
   "source": [
    "n=int(input())\n",
    "x=int(input())"
   ]
  },
  {
   "cell_type": "code",
   "execution_count": 44,
   "id": "9c5e55ea",
   "metadata": {},
   "outputs": [
    {
     "name": "stdout",
     "output_type": "stream",
     "text": [
      "2 6\n",
      "4 1\n",
      "5 3\n"
     ]
    }
   ],
   "source": [
    "i=0\n",
    "a_b_list=[]\n",
    "while i<n:\n",
    "    a_b=input().split(' ')\n",
    "    a_b=sorted([7-int(a_b[0]),7-int(a_b[1]),int(a_b[0]),int(a_b[1])])\n",
    "    a_b_list.append(a_b)\n",
    "    i=i+1\n",
    "    "
   ]
  },
  {
   "cell_type": "code",
   "execution_count": 45,
   "id": "3f86acd5",
   "metadata": {},
   "outputs": [],
   "source": [
    "i=0\n",
    "c=1\n",
    "while i<n-1:\n",
    "    if a_b_list[i]==a_b_list[i+1]:\n",
    "        c=c+1\n",
    "    i=i+1"
   ]
  },
  {
   "cell_type": "code",
   "execution_count": 46,
   "id": "f1957297",
   "metadata": {},
   "outputs": [
    {
     "name": "stdout",
     "output_type": "stream",
     "text": [
      "NO\n"
     ]
    }
   ],
   "source": [
    "if c==n:\n",
    "    print('YES')\n",
    "else: \n",
    "    print('NO')"
   ]
  },
  {
   "cell_type": "code",
   "execution_count": null,
   "id": "dea1c00b",
   "metadata": {},
   "outputs": [],
   "source": []
  }
 ],
 "metadata": {
  "kernelspec": {
   "display_name": "Python 3 (ipykernel)",
   "language": "python",
   "name": "python3"
  },
  "language_info": {
   "codemirror_mode": {
    "name": "ipython",
    "version": 3
   },
   "file_extension": ".py",
   "mimetype": "text/x-python",
   "name": "python",
   "nbconvert_exporter": "python",
   "pygments_lexer": "ipython3",
   "version": "3.9.7"
  }
 },
 "nbformat": 4,
 "nbformat_minor": 5
}
