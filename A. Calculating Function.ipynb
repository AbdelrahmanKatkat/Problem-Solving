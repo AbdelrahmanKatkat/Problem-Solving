{
 "cells": [
  {
   "cell_type": "markdown",
   "id": "908ec0d2",
   "metadata": {},
   "source": [
    "For a positive integer n let's define a function f:\n",
    "$$ f(n) =  - 1 + 2 - 3 + .. + ( - 1)^n*n$$\n",
    "\n",
    "Your task is to calculate f(n) for a given integer n."
   ]
  },
  {
   "cell_type": "markdown",
   "id": "94b8f335",
   "metadata": {},
   "source": [
    "### I/P\n",
    "The single line contains the positive integer n.\n",
    "\n",
    "\n",
    "### O/P\n",
    "Print f(n) in a single line.\n",
    "\n",
    "\n",
    "### Terminology\n",
    "- fn is dependent variable\n",
    "- n is the independent variable\n",
    "\n",
    "\n",
    "### Idea\n",
    "- Use recursion to make the requested function, but it took too much time\n",
    "- I looked for a relation and found that all number is decreasing with a sequence\n",
    "- I put all the possible outcome of the sequence in if condition\n",
    "    - 5\n",
    "    - -5\n",
    "    - 4\n",
    "    - -4\n",
    "    - 3\n",
    "    - -3\n",
    "    - 2\n",
    "    - -2\n",
    "    - 1\n",
    "    - -1"
   ]
  },
  {
   "cell_type": "markdown",
   "id": "05faf5f9",
   "metadata": {},
   "source": [
    "### Submitted"
   ]
  },
  {
   "cell_type": "code",
   "execution_count": 108,
   "id": "9f527497",
   "metadata": {},
   "outputs": [
    {
     "name": "stdout",
     "output_type": "stream",
     "text": [
      "10\n",
      "5\n"
     ]
    }
   ],
   "source": [
    "n=int(input())\n",
    "if n%10==0:\n",
    "    print(int(n/2))\n",
    "elif n%10==9:\n",
    "    print(int(-(n+1)/2))\n",
    "elif n%10==8:\n",
    "    print(int((n+2)/2-1))\n",
    "elif n%10==7:\n",
    "    print(int(-((n+3)/2-1)))\n",
    "elif n%10==6:\n",
    "    print(int((n+4)/2-2))\n",
    "elif n%10==5:\n",
    "    print(int(-((n+5)/2-2)))\n",
    "elif n%10==4:\n",
    "    print(int((n+6)/2-3))\n",
    "elif n%10==3:\n",
    "    print(int(-((n+7)/2-3)))\n",
    "elif n%10==2:\n",
    "    print(int((n+8)/2-4))\n",
    "elif n%10==1:\n",
    "    print(int(-((n+9)/2-4)))\n",
    "    "
   ]
  },
  {
   "cell_type": "code",
   "execution_count": 86,
   "id": "ce924607",
   "metadata": {},
   "outputs": [
    {
     "name": "stdout",
     "output_type": "stream",
     "text": [
      "8\n",
      "4\n"
     ]
    }
   ],
   "source": [
    "n=int(input())\n",
    "def req_fun(n):\n",
    "    if n==1:\n",
    "        return -1\n",
    "    else:\n",
    "        return pow(-1,n)*n+req_fun(n-1)\n",
    "print(req_fun(n))"
   ]
  },
  {
   "cell_type": "code",
   "execution_count": 11,
   "id": "7aa3362d",
   "metadata": {},
   "outputs": [
    {
     "name": "stdout",
     "output_type": "stream",
     "text": [
      "5\n",
      "-3\n"
     ]
    }
   ],
   "source": [
    "n=int(input())\n",
    "result=0\n",
    "for item in range(0,n+1):\n",
    "    if item%2!=0:\n",
    "        result=result-item\n",
    "    elif item%2==0:\n",
    "        result=result+item\n",
    "print(result)"
   ]
  },
  {
   "cell_type": "markdown",
   "id": "16b06781",
   "metadata": {},
   "source": [
    "### Trials"
   ]
  },
  {
   "cell_type": "code",
   "execution_count": 1,
   "id": "9c6878b5",
   "metadata": {},
   "outputs": [
    {
     "name": "stdout",
     "output_type": "stream",
     "text": [
      "10\n"
     ]
    }
   ],
   "source": [
    "n=int(input())"
   ]
  },
  {
   "cell_type": "code",
   "execution_count": 2,
   "id": "f2e54551",
   "metadata": {},
   "outputs": [],
   "source": [
    "def req_fun(n):\n",
    "    if n==1:\n",
    "        return -1\n",
    "    else:\n",
    "        return pow(-1,n)*n+req_fun(n-1)"
   ]
  },
  {
   "cell_type": "code",
   "execution_count": 3,
   "id": "5adf9291",
   "metadata": {},
   "outputs": [
    {
     "name": "stdout",
     "output_type": "stream",
     "text": [
      "5\n"
     ]
    }
   ],
   "source": [
    "print(req_fun(n))"
   ]
  },
  {
   "cell_type": "code",
   "execution_count": 4,
   "id": "d69e8185",
   "metadata": {},
   "outputs": [
    {
     "data": {
      "text/plain": [
       "1"
      ]
     },
     "execution_count": 4,
     "metadata": {},
     "output_type": "execute_result"
    }
   ],
   "source": [
    "pow(-1,n)"
   ]
  },
  {
   "cell_type": "code",
   "execution_count": 6,
   "id": "7508efcb",
   "metadata": {},
   "outputs": [
    {
     "name": "stdout",
     "output_type": "stream",
     "text": [
      "5\n"
     ]
    }
   ],
   "source": [
    "result=0\n",
    "for item in range(0,n+1):\n",
    "    if item%2!=0:\n",
    "        result=result-item\n",
    "    elif item%2==0:\n",
    "        result=result+item\n",
    "print(result)"
   ]
  },
  {
   "cell_type": "code",
   "execution_count": 45,
   "id": "f2e92758",
   "metadata": {},
   "outputs": [
    {
     "name": "stdout",
     "output_type": "stream",
     "text": [
      "100000000\n"
     ]
    },
    {
     "ename": "KeyboardInterrupt",
     "evalue": "",
     "output_type": "error",
     "traceback": [
      "\u001b[1;31m---------------------------------------------------------------------------\u001b[0m",
      "\u001b[1;31mKeyboardInterrupt\u001b[0m                         Traceback (most recent call last)",
      "\u001b[1;32mC:\\Users\\ABDELR~1\\AppData\\Local\\Temp/ipykernel_3932/3773782245.py\u001b[0m in \u001b[0;36m<module>\u001b[1;34m\u001b[0m\n\u001b[0;32m     11\u001b[0m \u001b[1;32melif\u001b[0m \u001b[0mn\u001b[0m\u001b[1;33m%\u001b[0m\u001b[1;36m2\u001b[0m\u001b[1;33m==\u001b[0m\u001b[1;36m0\u001b[0m\u001b[1;33m:\u001b[0m\u001b[1;33m\u001b[0m\u001b[1;33m\u001b[0m\u001b[0m\n\u001b[0;32m     12\u001b[0m     \u001b[1;32mwhile\u001b[0m \u001b[0mx\u001b[0m\u001b[1;33m<\u001b[0m\u001b[0mn\u001b[0m\u001b[1;33m+\u001b[0m\u001b[1;36m1\u001b[0m\u001b[1;33m:\u001b[0m\u001b[1;33m\u001b[0m\u001b[1;33m\u001b[0m\u001b[0m\n\u001b[1;32m---> 13\u001b[1;33m         \u001b[0mresult\u001b[0m\u001b[1;33m=\u001b[0m\u001b[0mresult\u001b[0m\u001b[1;33m+\u001b[0m\u001b[0mx\u001b[0m\u001b[1;33m-\u001b[0m\u001b[0my\u001b[0m\u001b[1;33m\u001b[0m\u001b[1;33m\u001b[0m\u001b[0m\n\u001b[0m\u001b[0;32m     14\u001b[0m         \u001b[0mx\u001b[0m\u001b[1;33m=\u001b[0m\u001b[0mx\u001b[0m\u001b[1;33m+\u001b[0m\u001b[1;36m2\u001b[0m\u001b[1;33m\u001b[0m\u001b[1;33m\u001b[0m\u001b[0m\n\u001b[0;32m     15\u001b[0m         \u001b[0my\u001b[0m\u001b[1;33m=\u001b[0m\u001b[0my\u001b[0m\u001b[1;33m+\u001b[0m\u001b[1;36m1\u001b[0m\u001b[1;33m\u001b[0m\u001b[1;33m\u001b[0m\u001b[0m\n",
      "\u001b[1;31mKeyboardInterrupt\u001b[0m: "
     ]
    }
   ],
   "source": [
    "n=int(input())\n",
    "result=0\n",
    "x=0\n",
    "y=0\n",
    "if n%2!=0:\n",
    "    while y<n+1:\n",
    "        result=result+x-y\n",
    "        if x+2<n+1:\n",
    "            x=x+2\n",
    "        y=y+1\n",
    "elif n%2==0:\n",
    "    while x<n+1:\n",
    "        result=result+x-y\n",
    "        x=x+2\n",
    "        y=y+1\n",
    "    \n",
    "print(result)"
   ]
  },
  {
   "cell_type": "code",
   "execution_count": 40,
   "id": "b56e2df8",
   "metadata": {},
   "outputs": [
    {
     "name": "stdout",
     "output_type": "stream",
     "text": [
      "2\n"
     ]
    }
   ],
   "source": [
    "n=int(input())"
   ]
  },
  {
   "cell_type": "code",
   "execution_count": 20,
   "id": "346c3d8c",
   "metadata": {},
   "outputs": [],
   "source": [
    "n_list=range(1,n)"
   ]
  },
  {
   "cell_type": "code",
   "execution_count": 21,
   "id": "c1d99a92",
   "metadata": {},
   "outputs": [
    {
     "data": {
      "text/plain": [
       "range(1, 1000000000)"
      ]
     },
     "execution_count": 21,
     "metadata": {},
     "output_type": "execute_result"
    }
   ],
   "source": [
    "n_list"
   ]
  },
  {
   "cell_type": "code",
   "execution_count": 22,
   "id": "b1b62edf",
   "metadata": {},
   "outputs": [
    {
     "data": {
      "text/plain": [
       "1"
      ]
     },
     "execution_count": 22,
     "metadata": {},
     "output_type": "execute_result"
    }
   ],
   "source": [
    "n_list[0]"
   ]
  },
  {
   "cell_type": "code",
   "execution_count": null,
   "id": "7c14a8b2",
   "metadata": {},
   "outputs": [],
   "source": []
  }
 ],
 "metadata": {
  "kernelspec": {
   "display_name": "Python 3 (ipykernel)",
   "language": "python",
   "name": "python3"
  },
  "language_info": {
   "codemirror_mode": {
    "name": "ipython",
    "version": 3
   },
   "file_extension": ".py",
   "mimetype": "text/x-python",
   "name": "python",
   "nbconvert_exporter": "python",
   "pygments_lexer": "ipython3",
   "version": "3.9.7"
  }
 },
 "nbformat": 4,
 "nbformat_minor": 5
}
