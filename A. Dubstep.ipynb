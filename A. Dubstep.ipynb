{
 "cells": [
  {
   "cell_type": "markdown",
   "metadata": {},
   "source": [
    "Vasya works as a DJ in the best Berland nightclub, and he often uses dubstep music in his performance. Recently, he has decided to take a couple of old songs and make dubstep remixes from them.\n",
    "\n",
    "Let's assume that a song consists of some number of words. To make the dubstep remix of this song, Vasya inserts a certain number of words \"WUB\" before the first word of the song (the number may be zero), after the last word (the number may be zero), and between words (at least one between any pair of neighbouring words), and then the boy glues together all the words, including \"WUB\", in one string and plays the song at the club.\n",
    "\n",
    "### Constraint\n",
    "- For example, a song with words \"I AM X\" can transform into a dubstep remix as \"WUBWUBIWUBAMWUBWUBX\" and cannot transform into \"WUBWUBIAMWUBX\".\n",
    "- It is guaranteed that before Vasya remixed the song, no word contained substring \"WUB\" in it; \n",
    "- VasIt is also guaranteed that initially the song had at least one word.ya didn't change the word order\n",
    "- It is also guaranteed that initially the song had at least one word.\n",
    "\n",
    "\n",
    "Recently, Petya has heard Vasya's new dubstep track, but since he isn't into modern music, he decided to find out what was the initial song that Vasya remixed. \n",
    "\n",
    "### Target\n",
    "Help Petya restore the original song by removing any added words between orginal lyrics.\n",
    "\n",
    "### Input\n",
    "- The input consists of a single non-empty string,\n",
    "    - The word consist of only of uppercase English letters, the string's length doesn't exceed 200 characters \n",
    "\n",
    "### Output\n",
    "- Print the words of the initial song that Vasya used to make a dubsteb remix. Separate the words with a space.\n",
    "\n",
    "### Terminology\n",
    "- s_in       I/P string\n",
    "- s_out      O/P string\n",
    "\n",
    "### Idea"
   ]
  },
  {
   "cell_type": "markdown",
   "metadata": {},
   "source": [
    "- Find word 'WUB'\n",
    "- Remove the word\n",
    "- Make a new string\n",
    "- Add all new string to it, but don't add space at the end and the beginning\n"
   ]
  },
  {
   "cell_type": "markdown",
   "metadata": {},
   "source": [
    "## Submitted"
   ]
  },
  {
   "cell_type": "code",
   "execution_count": 74,
   "metadata": {},
   "outputs": [
    {
     "name": "stdout",
     "output_type": "stream",
     "text": [
      "RWUBWUBWUBLWUB\n",
      "R   L \n"
     ]
    }
   ],
   "source": [
    "s_in=input()\n",
    "s_temp=s_in.replace('WUB',' ')\n",
    "n=len(s_temp)\n",
    "i=0\n",
    "s_out=''\n",
    "while i<n:\n",
    "    if s_temp[i]==' ' and i==0: ## Space at the beginning\n",
    "        s_out=s_out\n",
    "    elif s_temp[i]==' ' and i==n:\n",
    "        s_out=s_out\n",
    "    else:\n",
    "        s_out=s_out+s_temp[i]\n",
    "    i=i+1\n",
    "print(s_out)"
   ]
  },
  {
   "cell_type": "markdown",
   "metadata": {},
   "source": [
    "### Trials"
   ]
  },
  {
   "cell_type": "code",
   "execution_count": 78,
   "metadata": {},
   "outputs": [
    {
     "name": "stdout",
     "output_type": "stream",
     "text": [
      "RWUBWUBWUBLWUB\n"
     ]
    }
   ],
   "source": [
    "s_in=input()"
   ]
  },
  {
   "cell_type": "code",
   "execution_count": 65,
   "metadata": {},
   "outputs": [],
   "source": [
    "s_temp=s_in.replace('WUB',' ')"
   ]
  },
  {
   "cell_type": "code",
   "execution_count": 79,
   "metadata": {},
   "outputs": [
    {
     "data": {
      "text/plain": [
       "'RWUBWUBWUBLWUB'"
      ]
     },
     "execution_count": 79,
     "metadata": {},
     "output_type": "execute_result"
    }
   ],
   "source": [
    "s_in"
   ]
  },
  {
   "cell_type": "code",
   "execution_count": 81,
   "metadata": {},
   "outputs": [],
   "source": [
    "n=len(s_out)\n",
    "step=3"
   ]
  },
  {
   "cell_type": "code",
   "execution_count": 71,
   "metadata": {},
   "outputs": [],
   "source": [
    "i=0\n",
    "s_out=''\n",
    "while i<n:\n",
    "    if s_temp[i]==' ' and i==0:\n",
    "        s_out=s_out\n",
    "    elif s_temp[i]==' ' and i==n:\n",
    "        s_out=s_out\n",
    "    else:\n",
    "        s_out=s_out+s_temp[i]\n",
    "    i=i+1\n",
    "        "
   ]
  },
  {
   "cell_type": "code",
   "execution_count": 72,
   "metadata": {},
   "outputs": [
    {
     "name": "stdout",
     "output_type": "stream",
     "text": [
      "R   L \n"
     ]
    }
   ],
   "source": [
    "print(s_out)"
   ]
  },
  {
   "cell_type": "markdown",
   "metadata": {},
   "source": [
    "### Make replace funciton"
   ]
  },
  {
   "cell_type": "code",
   "execution_count": 126,
   "metadata": {},
   "outputs": [],
   "source": [
    "def replace_mine(str,old,new):\n",
    "    i=0\n",
    "    s_temp=''\n",
    "    x=len(old)\n",
    "    while i<n:\n",
    "        if s_in[i]+s_in[i+1]+s_in[i+2]==old:\n",
    "            s_temp=s_temp\n",
    "            i=i+2\n",
    "        else:\n",
    "            s_temp=s_temp+new+s_in[i]\n",
    "        i=i+1\n",
    "    return s_temp\n"
   ]
  },
  {
   "cell_type": "code",
   "execution_count": 127,
   "metadata": {},
   "outputs": [
    {
     "data": {
      "text/plain": [
       "' R L'"
      ]
     },
     "execution_count": 127,
     "metadata": {},
     "output_type": "execute_result"
    }
   ],
   "source": [
    "replace_mine('WUBWUBABCWUB','WUB',' ')"
   ]
  },
  {
   "cell_type": "code",
   "execution_count": null,
   "metadata": {},
   "outputs": [],
   "source": []
  }
 ],
 "metadata": {
  "kernelspec": {
   "display_name": "Python 3",
   "language": "python",
   "name": "python3"
  },
  "language_info": {
   "codemirror_mode": {
    "name": "ipython",
    "version": 3
   },
   "file_extension": ".py",
   "mimetype": "text/x-python",
   "name": "python",
   "nbconvert_exporter": "python",
   "pygments_lexer": "ipython3",
   "version": "3.6.6"
  }
 },
 "nbformat": 4,
 "nbformat_minor": 2
}
