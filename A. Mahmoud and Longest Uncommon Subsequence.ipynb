{
 "cells": [
  {
   "cell_type": "markdown",
   "id": "1fbab7f1",
   "metadata": {},
   "source": [
    "While Mahmoud and Ehab were practicing for IOI, they found a problem which name was Longest common subsequence. They solved it, and then Ehab challenged Mahmoud with another problem.\n",
    "\n",
    "Given two strings a and b, find the length of their longest uncommon subsequence, which is the longest string that is a subsequence of one of them and not a subsequence of the other.\n",
    "\n",
    "A subsequence of some string is a sequence of characters that appears in the same order in the string, The appearances don't have to be consecutive, for example, strings \"ac\", \"bc\", \"abc\" and \"a\" are subsequences of string \"abc\" while strings \"abbc\" and \"acb\" are not. The empty string is a subsequence of any string. Any string is a subsequence of itself.\n",
    "\n",
    "## Target\n",
    "Given two strings a and b, find the length of their longest uncommon subsequence\n",
    "\n",
    "## Input\n",
    "- The first line contains string a,\n",
    "- and the second line — string b.\n",
    "\n",
    "Both of these strings are non-empty and consist of lowercase letters of English alphabet. The length of each string is not bigger than 105 characters.\n",
    "\n",
    "## Output\n",
    "- If there's no uncommon subsequence, print \"-1\". \n",
    "- Or, length of the longest uncommon subsequence of a and b.\n",
    "\n",
    "## Terminology \n",
    "- a first string\n",
    "- b second string \n",
    "\n",
    "## Idea\n",
    "- He wants to know if both of a, b have same order or not"
   ]
  },
  {
   "cell_type": "code",
   "execution_count": 1,
   "id": "d650eb96",
   "metadata": {},
   "outputs": [
    {
     "name": "stdout",
     "output_type": "stream",
     "text": [
      "abbc\n"
     ]
    }
   ],
   "source": [
    "a=input()"
   ]
  },
  {
   "cell_type": "code",
   "execution_count": 2,
   "id": "ec7de6e9",
   "metadata": {},
   "outputs": [
    {
     "name": "stdout",
     "output_type": "stream",
     "text": [
      "acb\n"
     ]
    }
   ],
   "source": [
    "b=input()"
   ]
  },
  {
   "cell_type": "code",
   "execution_count": 33,
   "id": "cc2263dd",
   "metadata": {},
   "outputs": [],
   "source": [
    "n=min([len(a),len(b)])\n",
    "N=max([len(a),len(b)])"
   ]
  },
  {
   "cell_type": "code",
   "execution_count": 34,
   "id": "169ae309",
   "metadata": {},
   "outputs": [
    {
     "name": "stdout",
     "output_type": "stream",
     "text": [
      "5\n"
     ]
    }
   ],
   "source": [
    "i=0\n",
    "Uncommon_number=0\n",
    "Common_number=0\n",
    "while i<n:\n",
    "    if a==b:\n",
    "        print(-1)\n",
    "    elif a[i]!=b[i]:\n",
    "        Uncommon_number=Uncommon_number+1\n",
    "    elif a[i]==b[i]:\n",
    "        Common_number=Common_number+1\n",
    "    i=i+1\n",
    "if Uncommon_number>0:\n",
    "    print(Uncommon_number+(N-n))"
   ]
  },
  {
   "cell_type": "markdown",
   "id": "afbc2211",
   "metadata": {},
   "source": [
    "## Submitted"
   ]
  },
  {
   "cell_type": "code",
   "execution_count": 38,
   "id": "08b70363",
   "metadata": {},
   "outputs": [
    {
     "name": "stdout",
     "output_type": "stream",
     "text": [
      "aaaaaaaaaaaaaaaaaaaaaaaaaaaaaaaaaaaaaaaaaaaaaaaaaacccccccccccccccccccccccccccccccccccccccccccccccccc\n",
      "aaaaaaaaaaaaaaaaaaaaaaaaaaaaaaaaaaaaaaaaaaaaaaaaaaddddddddddddddddddddddddddddddddddddddddddddddddd\n",
      "50\n"
     ]
    }
   ],
   "source": [
    "a=input()\n",
    "b=input()\n",
    "n=min([len(a),len(b)])\n",
    "N=max([len(a),len(b)])\n",
    "i=0\n",
    "Uncommon_number=0\n",
    "Common_number=0\n",
    "while i<n:\n",
    "    if a==b:\n",
    "        print(-1)\n",
    "    elif a[i]!=b[i]:\n",
    "        Uncommon_number=Uncommon_number+1\n",
    "    elif a[i]==b[i]:\n",
    "        Common_number=Common_number+1\n",
    "    i=i+1\n",
    "if Uncommon_number>0:\n",
    "    print(Uncommon_number+(N-n))"
   ]
  },
  {
   "cell_type": "markdown",
   "id": "7ce6b051",
   "metadata": {},
   "source": [
    "## Submitted"
   ]
  },
  {
   "cell_type": "code",
   "execution_count": 3,
   "id": "eab164b8",
   "metadata": {},
   "outputs": [
    {
     "name": "stdout",
     "output_type": "stream",
     "text": [
      "aaaaaaaaaaaaaaaaaaaaaaaaaaaaaaaaaaaaaaaaaaaaaaaaaaddddddddddddddddddddddddddddddddddddddddddddddddd\n",
      "aaaaaaaaaaaaaaaaaaaaaaaaaaaaaaaaaaaaaaaaaaaaaaaaaacccccccccccccccccccccccccccccccccccccccccccccccccccccccccccccccccccc\n",
      "99\n"
     ]
    }
   ],
   "source": [
    "a=input()\n",
    "b=input()\n",
    "n=min([len(a),len(b)])\n",
    "N=max([len(a),len(b)])\n",
    "if a==b:\n",
    "    print(-1)\n",
    "else:\n",
    "    print(N)"
   ]
  },
  {
   "cell_type": "code",
   "execution_count": null,
   "id": "ba128c04",
   "metadata": {},
   "outputs": [],
   "source": []
  }
 ],
 "metadata": {
  "kernelspec": {
   "display_name": "Python 3 (ipykernel)",
   "language": "python",
   "name": "python3"
  },
  "language_info": {
   "codemirror_mode": {
    "name": "ipython",
    "version": 3
   },
   "file_extension": ".py",
   "mimetype": "text/x-python",
   "name": "python",
   "nbconvert_exporter": "python",
   "pygments_lexer": "ipython3",
   "version": "3.9.7"
  }
 },
 "nbformat": 4,
 "nbformat_minor": 5
}
