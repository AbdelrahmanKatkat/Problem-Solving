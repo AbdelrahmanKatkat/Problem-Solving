{
 "cells": [
  {
   "cell_type": "markdown",
   "id": "a8431be3",
   "metadata": {},
   "source": [
    "After their adventure with the magic mirror Kay and Gerda have returned home and sometimes give free ice cream to kids in the summer.\n",
    "\n",
    "At the start of the day they have x ice cream packs. Since the ice cream is free, people start standing in the queue before Kay and Gerda's house even in the night. Each person in the queue wants either to take several ice cream packs for himself and his friends or to give several ice cream packs to Kay and Gerda (carriers that bring ice cream have to stand in the same queue).\n",
    "\n",
    "If a carrier with d ice cream packs comes to the house, then Kay and Gerda take all his packs. If a child who wants to take d ice cream packs comes to the house, then Kay and Gerda will give him d packs if they have enough ice cream, otherwise the child will get no ice cream at all and will leave in distress.\n",
    "\n",
    "Kay wants to find the amount of ice cream they will have after all people will leave from the queue, and Gerda wants to find the number of distressed kids."
   ]
  },
  {
   "cell_type": "markdown",
   "id": "f775e488",
   "metadata": {},
   "source": [
    "## Input\n",
    "The first line contains two space-separated integers n and x (1 ≤ n ≤ 1000, 0 ≤ x ≤ 109).\n",
    "\n",
    "Each of the next n lines contains a character '+' or '-', and an integer di, separated by a space (1 ≤ di ≤ 109). Record \"+ di\" in i-th line means that a carrier with di ice cream packs occupies i-th place from the start of the queue, and record \"- di\" means that a child who wants to take di packs stands in i-th place.\n",
    "\n",
    "## Output\n",
    "Print two space-separated integers — number of ice cream packs left after all operations, and number of kids that left the house in distress."
   ]
  },
  {
   "cell_type": "code",
   "execution_count": 157,
   "id": "82697f11",
   "metadata": {},
   "outputs": [
    {
     "name": "stdout",
     "output_type": "stream",
     "text": [
      "5 17\n",
      "5 17\n",
      "- 16\n",
      "- 2\n",
      "- 98\n",
      "+ 100\n",
      "- 98\n",
      "3\n",
      "2\n"
     ]
    }
   ],
   "source": [
    "x=input()\n",
    "i=0\n",
    "while i<len(x):\n",
    "    if x[i]==' ':\n",
    "        num_queue=int(x[0:i])\n",
    "        intial_num=int(x[i+1:])\n",
    "    i=i+1\n",
    "i=0\n",
    "sad_kid=0\n",
    "while i<num_queue:\n",
    "    in_value=input()\n",
    "    if in_value[0]==\"+\" :\n",
    "        intial_num=intial_num+int(in_value[2:])\n",
    "    elif in_value[0]==\"-\" and int(in_value[2:])<=intial_num:\n",
    "        intial_num=intial_num-int(in_value[2:])\n",
    "    elif int(in_value[2:])>intial_num:\n",
    "        sad_kid=sad_kid+1\n",
    "    i=i+1\n",
    "print(intial_num)\n",
    "print(sad_kid)"
   ]
  },
  {
   "cell_type": "code",
   "execution_count": null,
   "id": "02f058c6",
   "metadata": {},
   "outputs": [],
   "source": []
  }
 ],
 "metadata": {
  "kernelspec": {
   "display_name": "Python 3",
   "language": "python",
   "name": "python3"
  },
  "language_info": {
   "codemirror_mode": {
    "name": "ipython",
    "version": 3
   },
   "file_extension": ".py",
   "mimetype": "text/x-python",
   "name": "python",
   "nbconvert_exporter": "python",
   "pygments_lexer": "ipython3",
   "version": "3.8.8"
  }
 },
 "nbformat": 4,
 "nbformat_minor": 5
}
