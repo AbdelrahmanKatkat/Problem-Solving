{
 "cells": [
  {
   "cell_type": "markdown",
   "id": "9e7fc742",
   "metadata": {},
   "source": [
    "Let's call a number k-good if it contains all digits not exceeding k (0, ..., k). You've got a number k and an array a containing n numbers. Find out how many k-good numbers are in a \n",
    "\n",
    "## Target\n",
    "(count each number every time it occurs in array a).\n",
    "\n",
    "## Input\n",
    "The first line contains integers n and k (1 ≤ n ≤ 100, 0 ≤ k ≤ 9). The i-th of the following n lines contains integer ai without leading zeroes (1 ≤ ai ≤ 109).\n",
    "\n",
    "## Output\n",
    "Print a single integer — the number of k-good numbers in a."
   ]
  },
  {
   "cell_type": "markdown",
   "id": "2d46d1a7",
   "metadata": {},
   "source": [
    "## Terminology\n",
    "- n number of number\n",
    "- 0,k the required number of element in a number to be good number\n",
    "- a_list list of unique element in each number a\n",
    "- a the number given\n",
    "- G Total number of good number"
   ]
  },
  {
   "cell_type": "markdown",
   "id": "f42677cd",
   "metadata": {},
   "source": [
    "## Idea\n",
    "- Make an array with k number in it\n",
    "- Compare element in each a number to the array and store it if it's unique in a_list\n",
    "- If len(a_list) == len(k_list) add a new number to the total \n",
    "- print(total)"
   ]
  },
  {
   "cell_type": "markdown",
   "id": "eaebf945",
   "metadata": {},
   "source": [
    "## Submitted"
   ]
  },
  {
   "cell_type": "code",
   "execution_count": 14,
   "id": "e7f742d9",
   "metadata": {},
   "outputs": [
    {
     "name": "stdout",
     "output_type": "stream",
     "text": [
      "5 5\n",
      "123450\n",
      "15119411\n",
      "91265185\n",
      "216456432\n",
      "165416216\n",
      "1\n"
     ]
    }
   ],
   "source": [
    "n_k=input()\n",
    "n_k_list=n_k.split(' ')\n",
    "n=int(n_k_list[0])\n",
    "k=int(n_k_list[1])\n",
    "k_list=[str(i) for i in range(0,k+1)]\n",
    "i=0\n",
    "a_list=[]\n",
    "G=0\n",
    "while i<n:\n",
    "    a=input()\n",
    "    for item in a:\n",
    "        if item in k_list and item not in a_list :\n",
    "            a_list.append(item)\n",
    "    if len(a_list)==len(k_list):\n",
    "        G=G+1\n",
    "    a_list=[]\n",
    "    i=i+1\n",
    "print(G)"
   ]
  },
  {
   "cell_type": "markdown",
   "id": "fcd4c211",
   "metadata": {},
   "source": [
    "## Trials"
   ]
  },
  {
   "cell_type": "code",
   "execution_count": 48,
   "id": "8b4b2367",
   "metadata": {},
   "outputs": [
    {
     "name": "stdout",
     "output_type": "stream",
     "text": [
      "5 5\n"
     ]
    }
   ],
   "source": [
    "n_k=input()"
   ]
  },
  {
   "cell_type": "code",
   "execution_count": 49,
   "id": "b14d70b1",
   "metadata": {},
   "outputs": [],
   "source": [
    "n_k_list=n_k.split(' ')\n",
    "n=int(n_k_list[0])\n",
    "k=int(n_k_list[1])"
   ]
  },
  {
   "cell_type": "code",
   "execution_count": 50,
   "id": "12245214",
   "metadata": {},
   "outputs": [],
   "source": [
    "k_list=[str(i) for i in range(0,k+1)]"
   ]
  },
  {
   "cell_type": "code",
   "execution_count": 51,
   "id": "286bd440",
   "metadata": {},
   "outputs": [
    {
     "data": {
      "text/plain": [
       "['0', '1', '2', '3', '4', '5']"
      ]
     },
     "execution_count": 51,
     "metadata": {},
     "output_type": "execute_result"
    }
   ],
   "source": [
    "k_list"
   ]
  },
  {
   "cell_type": "code",
   "execution_count": 53,
   "id": "5f8d0099",
   "metadata": {},
   "outputs": [
    {
     "data": {
      "text/plain": [
       "5"
      ]
     },
     "execution_count": 53,
     "metadata": {},
     "output_type": "execute_result"
    }
   ],
   "source": [
    "k"
   ]
  },
  {
   "cell_type": "code",
   "execution_count": 54,
   "id": "b7f75850",
   "metadata": {},
   "outputs": [
    {
     "name": "stdout",
     "output_type": "stream",
     "text": [
      "654321\n",
      "1\n",
      "2\n",
      "3\n",
      "4\n",
      "5\n",
      "6543210\n",
      "1\n",
      "2\n",
      "3\n",
      "4\n",
      "5\n",
      "6\n",
      "7654321\n",
      "1\n",
      "2\n",
      "3\n",
      "4\n",
      "5\n",
      "8654321\n",
      "1\n",
      "2\n",
      "3\n",
      "4\n",
      "5\n",
      "65432100\n",
      "1\n",
      "2\n",
      "3\n",
      "4\n",
      "5\n",
      "6\n",
      "7\n",
      "1\n"
     ]
    }
   ],
   "source": [
    "i=0\n",
    "a_counter=0\n",
    "G=0\n",
    "while i<n:\n",
    "    a=input()\n",
    "    for item in a:\n",
    "        if item in k_list and int(item)<=k:\n",
    "            a_counter=a_counter+1\n",
    "            print(a_counter)\n",
    "    if a_counter==k+1:\n",
    "        G=G+1\n",
    "    a_counter=0\n",
    "    i=i+1\n",
    "print(G)"
   ]
  },
  {
   "cell_type": "code",
   "execution_count": 31,
   "id": "9c1378b6",
   "metadata": {},
   "outputs": [
    {
     "name": "stdout",
     "output_type": "stream",
     "text": [
      "1\n",
      "0\n"
     ]
    }
   ],
   "source": [
    "654321\n",
    "6543210\n",
    "7654321\n",
    "8654321\n",
    "65432100"
   ]
  },
  {
   "cell_type": "code",
   "execution_count": 30,
   "id": "a89f91ef",
   "metadata": {},
   "outputs": [
    {
     "data": {
      "text/plain": [
       "'1'"
      ]
     },
     "execution_count": 30,
     "metadata": {},
     "output_type": "execute_result"
    }
   ],
   "source": [
    "a[0]"
   ]
  },
  {
   "cell_type": "code",
   "execution_count": 14,
   "id": "e99e0638",
   "metadata": {},
   "outputs": [
    {
     "data": {
      "text/plain": [
       "'2'"
      ]
     },
     "execution_count": 14,
     "metadata": {},
     "output_type": "execute_result"
    }
   ],
   "source": [
    "x[1]"
   ]
  },
  {
   "cell_type": "code",
   "execution_count": null,
   "id": "b85fd5c7",
   "metadata": {},
   "outputs": [],
   "source": []
  }
 ],
 "metadata": {
  "kernelspec": {
   "display_name": "Python 3 (ipykernel)",
   "language": "python",
   "name": "python3"
  },
  "language_info": {
   "codemirror_mode": {
    "name": "ipython",
    "version": 3
   },
   "file_extension": ".py",
   "mimetype": "text/x-python",
   "name": "python",
   "nbconvert_exporter": "python",
   "pygments_lexer": "ipython3",
   "version": "3.9.7"
  }
 },
 "nbformat": 4,
 "nbformat_minor": 5
}
