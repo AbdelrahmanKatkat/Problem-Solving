{
 "cells": [
  {
   "cell_type": "markdown",
   "id": "0f741eb6",
   "metadata": {},
   "source": [
    "There exists an island called Arpa’s land, some beautiful girls live there, as ugly ones do.\n",
    "\n",
    "Mehrdad wants to become minister of Arpa’s land. Arpa has prepared an exam. Exam has only one question, given n, print the last digit of 1378n.\n",
    "\n",
    "Mehrdad has become quite confused and wants you to help him. Please help, although it's a naive cheat.\n",
    "\n",
    "### Input\n",
    "The single line of input contains one integer n (0  ≤  n  ≤  10**9).\n",
    "\n",
    "### Output\n",
    "Print single integer — the last digit of 1378n."
   ]
  },
  {
   "cell_type": "markdown",
   "id": "59642769",
   "metadata": {},
   "source": [
    "### Idea\n",
    "- Use power function to get the power\n",
    "- Turn the number into a string\n",
    "- Use indexing to get the last element"
   ]
  },
  {
   "cell_type": "markdown",
   "id": "f4c2c8f7",
   "metadata": {},
   "source": [
    "### Submitted"
   ]
  },
  {
   "cell_type": "code",
   "execution_count": 20,
   "id": "9e1e5490",
   "metadata": {},
   "outputs": [
    {
     "name": "stdout",
     "output_type": "stream",
     "text": [
      "0\n",
      "1\n"
     ]
    }
   ],
   "source": [
    "n=int(input())\n",
    "temp=pow(1378,n,10)\n",
    "temp_str=str(temp)\n",
    "print(temp_str[len(temp_str)-1])"
   ]
  },
  {
   "cell_type": "markdown",
   "id": "c5af95e7",
   "metadata": {},
   "source": [
    "### Trials"
   ]
  },
  {
   "cell_type": "code",
   "execution_count": 17,
   "id": "5babf31f",
   "metadata": {},
   "outputs": [
    {
     "name": "stdout",
     "output_type": "stream",
     "text": [
      "2\n"
     ]
    }
   ],
   "source": [
    "n=int(input())"
   ]
  },
  {
   "cell_type": "code",
   "execution_count": 18,
   "id": "0069dab9",
   "metadata": {},
   "outputs": [],
   "source": [
    "temp=1378**n"
   ]
  },
  {
   "cell_type": "code",
   "execution_count": null,
   "id": "3dfb5975",
   "metadata": {},
   "outputs": [],
   "source": [
    "temp=pow(1378,n,10)"
   ]
  },
  {
   "cell_type": "code",
   "execution_count": 13,
   "id": "30d35af4",
   "metadata": {},
   "outputs": [],
   "source": [
    "temp_str=str(temp)"
   ]
  },
  {
   "cell_type": "code",
   "execution_count": 19,
   "id": "d0be9a7a",
   "metadata": {},
   "outputs": [
    {
     "data": {
      "text/plain": [
       "7"
      ]
     },
     "execution_count": 19,
     "metadata": {},
     "output_type": "execute_result"
    }
   ],
   "source": [
    "len(temp_str)"
   ]
  },
  {
   "cell_type": "code",
   "execution_count": 24,
   "id": "291c9541",
   "metadata": {},
   "outputs": [
    {
     "data": {
      "text/plain": [
       "'4'"
      ]
     },
     "execution_count": 24,
     "metadata": {},
     "output_type": "execute_result"
    }
   ],
   "source": [
    "temp_str[len(temp_str)-1]"
   ]
  },
  {
   "cell_type": "code",
   "execution_count": 25,
   "id": "298411b1",
   "metadata": {},
   "outputs": [
    {
     "name": "stdout",
     "output_type": "stream",
     "text": [
      "4\n"
     ]
    }
   ],
   "source": [
    "print(temp_str[len(temp_str)-1])"
   ]
  },
  {
   "cell_type": "code",
   "execution_count": null,
   "id": "4c69b55c",
   "metadata": {},
   "outputs": [],
   "source": []
  }
 ],
 "metadata": {
  "kernelspec": {
   "display_name": "Python 3 (ipykernel)",
   "language": "python",
   "name": "python3"
  },
  "language_info": {
   "codemirror_mode": {
    "name": "ipython",
    "version": 3
   },
   "file_extension": ".py",
   "mimetype": "text/x-python",
   "name": "python",
   "nbconvert_exporter": "python",
   "pygments_lexer": "ipython3",
   "version": "3.9.13"
  }
 },
 "nbformat": 4,
 "nbformat_minor": 5
}
