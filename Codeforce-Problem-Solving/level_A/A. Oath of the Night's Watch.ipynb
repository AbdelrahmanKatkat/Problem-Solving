{
 "cells": [
  {
   "cell_type": "markdown",
   "id": "db5798d1",
   "metadata": {},
   "source": [
    "Night gathers, and now my watch begins. It shall not end until my death. I shall take no wife, hold no lands, father no children. I shall wear no crowns and win no glory. I shall live and die at my post. I am the sword in the darkness. I am the watcher on the walls. I am the shield that guards the realms of men. I pledge my life and honor to the Night's Watch, for this night and all the nights to come.\" — The Night's Watch oath.\n",
    "\n",
    "With that begins the watch of Jon Snow. He is assigned the task to support the stewards.\n",
    "\n",
    "This time he has n stewards with him whom he has to provide support. Each steward has his own strength. Jon Snow likes to support a steward only if there exists at least one steward who has strength strictly less than him and at least one steward who has strength strictly greater than him.\n",
    "\n",
    "Can you find how many stewards will Jon support?\n",
    "\n",
    "## Input\n",
    "First line consists of a single integer n (1 ≤ n ≤ 105) — the number of stewards with Jon Snow.\n",
    "\n",
    "Second line consists of n space separated integers a1, a2, ..., an (0 ≤ ai ≤ 109) representing the values assigned to the stewards.\n",
    "\n",
    "## Output\n",
    "Output a single integer representing the number of stewards which Jon will feed."
   ]
  },
  {
   "cell_type": "markdown",
   "id": "0f7f86b1",
   "metadata": {},
   "source": [
    "## Terminology\n",
    "- n number of stewards\n",
    "- S Strength of steward\n",
    "- "
   ]
  },
  {
   "cell_type": "markdown",
   "id": "03ee9782",
   "metadata": {},
   "source": [
    "## Idea \n",
    "- We want to remove duplicate min, max\n",
    "- print(all number of all other values in between)"
   ]
  },
  {
   "cell_type": "markdown",
   "id": "c8fc078a",
   "metadata": {},
   "source": [
    "## Submitted"
   ]
  },
  {
   "cell_type": "code",
   "execution_count": null,
   "id": "ba1ae2b5",
   "metadata": {},
   "outputs": [],
   "source": [
    "n=int(input())\n",
    "S=input()\n",
    "S_list=S.split(\" \")\n",
    "i=0\n",
    "for item in S_list:\n",
    "    S_list[i]=int(item)\n",
    "    i=i+1\n",
    "x=n\n",
    "S_min=min(S_list)\n",
    "S_max=max(S_list)\n",
    "for item in S_list:\n",
    "    if item==S_min or item==S_max:\n",
    "        x=x-1  \n",
    "        \n",
    "if n==2 or n==1:\n",
    "    print(0)\n",
    "else:\n",
    "    print(x)"
   ]
  },
  {
   "cell_type": "markdown",
   "id": "0d04eb65",
   "metadata": {},
   "source": [
    "## Trials"
   ]
  },
  {
   "cell_type": "code",
   "execution_count": 24,
   "id": "1e7a1637",
   "metadata": {},
   "outputs": [
    {
     "name": "stdout",
     "output_type": "stream",
     "text": [
      "4\n",
      "1 2 2 5\n",
      "1\n"
     ]
    }
   ],
   "source": [
    "## Try to remove all duplicate\n",
    "n=input()\n",
    "S=input()\n",
    "S_list=S.split(\" \")\n",
    "i=0\n",
    "for item in S_list:\n",
    "    S_list[i]=int(item)\n",
    "    i=i+1\n",
    "i=0\n",
    "S_NoDup=[]\n",
    "for x in S_list:\n",
    "    if x not in S_NoDup:\n",
    "        S_NoDup.append(x)\n",
    "x=len(S_NoDup)\n",
    "if x==2 or x==1:\n",
    "    print(0)\n",
    "else:\n",
    "    print(x-2)"
   ]
  },
  {
   "cell_type": "code",
   "execution_count": 12,
   "id": "b3fa60d7",
   "metadata": {},
   "outputs": [
    {
     "name": "stdout",
     "output_type": "stream",
     "text": [
      "4\n",
      "1 2 2 5\n",
      "1\n"
     ]
    }
   ],
   "source": [
    "## Trial to remove duplicate with dictionary\n",
    "n=input()\n",
    "S=input()\n",
    "S_list=S.split(\" \")\n",
    "i=0\n",
    "for item in S_list:\n",
    "    S_list[i]=int(item)\n",
    "    i=i+1\n",
    "i=0\n",
    "\n",
    "dictionary = dict.fromkeys(S_list)\n",
    "S_NoDup = list(dictionary)\n",
    "\n",
    "x=len(S_NoDup)\n",
    "if x==2 or x==1:\n",
    "    print(0)\n",
    "else:\n",
    "    print(x-2)"
   ]
  }
 ],
 "metadata": {
  "kernelspec": {
   "display_name": "Python 3 (ipykernel)",
   "language": "python",
   "name": "python3"
  },
  "language_info": {
   "codemirror_mode": {
    "name": "ipython",
    "version": 3
   },
   "file_extension": ".py",
   "mimetype": "text/x-python",
   "name": "python",
   "nbconvert_exporter": "python",
   "pygments_lexer": "ipython3",
   "version": "3.9.7"
  }
 },
 "nbformat": 4,
 "nbformat_minor": 5
}
