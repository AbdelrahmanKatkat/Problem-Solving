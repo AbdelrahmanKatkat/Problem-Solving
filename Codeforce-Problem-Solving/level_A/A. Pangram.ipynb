{
 "cells": [
  {
   "cell_type": "markdown",
   "id": "b138f9d5",
   "metadata": {},
   "source": [
    "A word or a sentence in some language is called a pangram if all the characters of the alphabet of this language appear in it at least once. Pangrams are often used to demonstrate fonts in printing or test the output devices.\n",
    "\n",
    "- We say that the string contains a letter of the Latin alphabet if this letter occurs in the string in uppercase or lowercase.\n",
    "\n",
    "\n",
    "## Constrain\n",
    "- Each char should appear at least once\n",
    "\n",
    "\n",
    "## Target\n",
    "- You are given a string consisting of lowercase and uppercase Latin letters. Check whether this string is a pangram.\n",
    "\n",
    "\n",
    "## I/P\n",
    "- The first line contains a single integer n (1 ≤ n ≤ 100) — the number of characters in the string.\n",
    "- The second line contains the string. The string consists only of uppercase and lowercase Latin letters.\n",
    "\n",
    "\n",
    "## O/P\n",
    "- Output \"YES\", if the string is a pangram and \"NO\" otherwise.\n",
    "\n",
    "\n",
    "## Terminology\n",
    "- n: number of characters in string\n",
    "- s: string (Upper/Lower char)"
   ]
  },
  {
   "cell_type": "markdown",
   "id": "c7708a78",
   "metadata": {},
   "source": [
    "## idea\n",
    "- remove duplicate from input\n",
    "- remove similar letter if capital vs lower"
   ]
  },
  {
   "cell_type": "markdown",
   "id": "28e2b618",
   "metadata": {},
   "source": [
    "## Submitted"
   ]
  },
  {
   "cell_type": "code",
   "execution_count": 67,
   "id": "b82a80a8",
   "metadata": {},
   "outputs": [
    {
     "name": "stdout",
     "output_type": "stream",
     "text": [
      "12\n",
      "toosmallword\n",
      "NO\n"
     ]
    }
   ],
   "source": [
    "n=int(input())\n",
    "s=input()\n",
    "s_list=[]\n",
    "for item in s:\n",
    "    s_list.append(ord(item))\n",
    "NoDup=[]\n",
    "for x in s_list:\n",
    "    if x<=91:\n",
    "        if x not in NoDup and x+32 not in NoDup :\n",
    "             NoDup.append(x)\n",
    "    elif x>=97:\n",
    "        if x not in NoDup and x-32 not in NoDup:\n",
    "            NoDup.append(x)\n",
    "n_in=len(NoDup)\n",
    "if n_in==26:\n",
    "    print('YES')\n",
    "else:\n",
    "    print('NO')"
   ]
  },
  {
   "cell_type": "code",
   "execution_count": 68,
   "id": "ed202e25",
   "metadata": {},
   "outputs": [
    {
     "name": "stdout",
     "output_type": "stream",
     "text": [
      "9\n"
     ]
    }
   ],
   "source": [
    "print(n_in)"
   ]
  },
  {
   "cell_type": "markdown",
   "id": "f0ad5f51",
   "metadata": {},
   "source": [
    "## Trials"
   ]
  },
  {
   "cell_type": "code",
   "execution_count": 2,
   "id": "5136883f",
   "metadata": {},
   "outputs": [
    {
     "name": "stdout",
     "output_type": "stream",
     "text": [
      "12\n"
     ]
    }
   ],
   "source": [
    "n=int(input())"
   ]
  },
  {
   "cell_type": "code",
   "execution_count": 3,
   "id": "44b15826",
   "metadata": {},
   "outputs": [
    {
     "name": "stdout",
     "output_type": "stream",
     "text": [
      "toosmallword\n"
     ]
    }
   ],
   "source": [
    "s=input()"
   ]
  },
  {
   "cell_type": "code",
   "execution_count": 13,
   "id": "263c01ca",
   "metadata": {},
   "outputs": [],
   "source": [
    "s_list=[]\n",
    "for item in s:\n",
    "    s_list.append(ord(item))"
   ]
  },
  {
   "cell_type": "code",
   "execution_count": 40,
   "id": "352df562",
   "metadata": {},
   "outputs": [],
   "source": [
    "Capital_letter=[(i) for i in range(65,91)]"
   ]
  },
  {
   "cell_type": "code",
   "execution_count": 41,
   "id": "aed9cde4",
   "metadata": {},
   "outputs": [],
   "source": [
    "Lower_letter=[(i) for i in range(97,122)]"
   ]
  },
  {
   "cell_type": "code",
   "execution_count": 60,
   "id": "bea6b061",
   "metadata": {},
   "outputs": [
    {
     "name": "stdout",
     "output_type": "stream",
     "text": [
      "[84, 104, 101, 81, 117, 105, 99, 107, 66, 114, 111, 119, 110, 70, 120, 74, 109, 112, 115, 118, 76, 97, 122, 121, 68, 103]\n"
     ]
    }
   ],
   "source": [
    "NoDup=[]\n",
    "for x in s_list:\n",
    "    if x<=91:\n",
    "        if x not in NoDup and x+32 not in NoDup :\n",
    "             NoDup.append(x)\n",
    "    elif x>=97:\n",
    "        if x not in NoDup and x-32 not in NoDup:\n",
    "            NoDup.append(x)\n",
    "print(NoDup)"
   ]
  },
  {
   "cell_type": "code",
   "execution_count": 61,
   "id": "c1e4d504",
   "metadata": {},
   "outputs": [
    {
     "data": {
      "text/plain": [
       "26"
      ]
     },
     "execution_count": 61,
     "metadata": {},
     "output_type": "execute_result"
    }
   ],
   "source": [
    "len(NoDup)"
   ]
  },
  {
   "cell_type": "code",
   "execution_count": null,
   "id": "97667bf6",
   "metadata": {},
   "outputs": [],
   "source": []
  },
  {
   "cell_type": "code",
   "execution_count": null,
   "id": "58c6ec72",
   "metadata": {},
   "outputs": [],
   "source": []
  },
  {
   "cell_type": "code",
   "execution_count": 43,
   "id": "4247c818",
   "metadata": {},
   "outputs": [],
   "source": [
    "i=0\n",
    "n_in=0\n",
    "while i<n:\n",
    "    if s_list[i] in Capital_letter or s_list[i] in Lower_letter:\n",
    "        n_in=n_in+1\n",
    "    i=i+1"
   ]
  },
  {
   "cell_type": "code",
   "execution_count": 44,
   "id": "11afd013",
   "metadata": {},
   "outputs": [
    {
     "name": "stdout",
     "output_type": "stream",
     "text": [
      "12\n"
     ]
    }
   ],
   "source": [
    "print(n_in)"
   ]
  },
  {
   "cell_type": "code",
   "execution_count": null,
   "id": "239b3507",
   "metadata": {},
   "outputs": [],
   "source": [
    "if n_in==26:\n",
    "    print('YES')\n",
    "else:\n",
    "    print('NO')"
   ]
  }
 ],
 "metadata": {
  "kernelspec": {
   "display_name": "Python 3 (ipykernel)",
   "language": "python",
   "name": "python3"
  },
  "language_info": {
   "codemirror_mode": {
    "name": "ipython",
    "version": 3
   },
   "file_extension": ".py",
   "mimetype": "text/x-python",
   "name": "python",
   "nbconvert_exporter": "python",
   "pygments_lexer": "ipython3",
   "version": "3.9.7"
  }
 },
 "nbformat": 4,
 "nbformat_minor": 5
}
