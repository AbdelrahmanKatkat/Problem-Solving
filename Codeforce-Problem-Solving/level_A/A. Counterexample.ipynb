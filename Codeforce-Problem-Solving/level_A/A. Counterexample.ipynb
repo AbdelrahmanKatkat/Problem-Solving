{
 "cells": [
  {
   "cell_type": "markdown",
   "id": "85d5f9de",
   "metadata": {},
   "source": [
    "[Coprime def](https://www.mathsisfun.com/definitions/coprime.html)\n",
    "\n",
    "[Factors of Number](https://www.cuemath.com/numbers/factors/)"
   ]
  },
  {
   "cell_type": "markdown",
   "id": "71bfc8b3",
   "metadata": {},
   "source": [
    "Your friend has recently learned about coprime numbers. A pair of numbers {a, b} is called coprime if the maximum number that divides both a and b is equal to one.\n",
    "\n",
    "Your friend often comes up with different statements. He has recently supposed that if the pair (a, b) is coprime and the pair (b, c) is coprime, then the pair (a, c) is coprime.\n",
    "\n",
    "You want to find a counterexample for your friend's statement. Therefore, your task is to find three distinct numbers (a, b, c), for which the statement is false, and the numbers meet the condition l ≤ a < b < c ≤ r.\n",
    "\n",
    "### Target\n",
    "You need to find three numbers (a, b, c), such that l ≤ a < b < c ≤ r, pairs (a, b) and (b, c) are coprime, and pair (a, c) is not coprime.\n",
    "\n",
    "### Input\n",
    "- The single line contains two positive space-separated integers l,r \n",
    "    - (1 ≤ l ≤ r ≤ 10^18; r - l ≤ 50).\n",
    "\n",
    "### Output\n",
    "- Print three positive space-separated integers a, b, c — three distinct numbers (a, b, c) that form the counterexample. \n",
    "\n",
    "If there are several solutions, you are allowed to print any of them. The numbers must be printed in ascending order.\n",
    "\n",
    "- If the counterexample does not exist, print the single number -1."
   ]
  },
  {
   "cell_type": "markdown",
   "id": "82ed6751",
   "metadata": {},
   "source": [
    "### Idea \n",
    "- He wants to find a range, so if you give him any 3 numbers between r, and l it will be sufficient\n",
    "- Take any 3 consecutive numbers "
   ]
  },
  {
   "cell_type": "markdown",
   "id": "26847540",
   "metadata": {},
   "source": [
    "### Submitted"
   ]
  },
  {
   "cell_type": "code",
   "execution_count": 13,
   "id": "ab962e66",
   "metadata": {},
   "outputs": [
    {
     "name": "stdout",
     "output_type": "stream",
     "text": [
      "1 4\n",
      "2 3 4\n"
     ]
    }
   ],
   "source": [
    "r_l=input()\n",
    "r_l_list=r_l.split(' ')\n",
    "r=int(r_l_list[0])\n",
    "l=int(r_l_list[1])\n",
    "if l-r<=1:\n",
    "    print(-1)\n",
    "elif r%2==0:\n",
    "    print(r, r+1, r+2)\n",
    "elif r%2!=0 and r+3<=l:\n",
    "    print(r+1,r+2,r+3)\n",
    "else:\n",
    "    print(-1)"
   ]
  },
  {
   "cell_type": "markdown",
   "id": "f7ee0cba",
   "metadata": {},
   "source": [
    "### Trials"
   ]
  },
  {
   "cell_type": "code",
   "execution_count": 2,
   "id": "65aa72e4",
   "metadata": {},
   "outputs": [
    {
     "name": "stdout",
     "output_type": "stream",
     "text": [
      "900000000000000009 900000000000000029\n"
     ]
    }
   ],
   "source": [
    "r_l=input()"
   ]
  },
  {
   "cell_type": "code",
   "execution_count": 4,
   "id": "f2b4197e",
   "metadata": {},
   "outputs": [],
   "source": [
    "r_l_list=r_l.split(' ')\n",
    "r=int(r_l_list[0])\n",
    "l=int(r_l_list[1])"
   ]
  },
  {
   "cell_type": "code",
   "execution_count": 6,
   "id": "6420f645",
   "metadata": {},
   "outputs": [
    {
     "name": "stdout",
     "output_type": "stream",
     "text": [
      "900000000000000010 900000000000000011 900000000000000012\n"
     ]
    }
   ],
   "source": [
    "if l-r<=1:\n",
    "    print(-1)\n",
    "elif r%2==0:\n",
    "    print(r, r+1, r+2)\n",
    "elif r%2!=0:\n",
    "    print(r+1,r+2,r+3)"
   ]
  },
  {
   "cell_type": "code",
   "execution_count": null,
   "id": "9f6fd187",
   "metadata": {},
   "outputs": [],
   "source": []
  }
 ],
 "metadata": {
  "kernelspec": {
   "display_name": "Python 3 (ipykernel)",
   "language": "python",
   "name": "python3"
  },
  "language_info": {
   "codemirror_mode": {
    "name": "ipython",
    "version": 3
   },
   "file_extension": ".py",
   "mimetype": "text/x-python",
   "name": "python",
   "nbconvert_exporter": "python",
   "pygments_lexer": "ipython3",
   "version": "3.9.7"
  }
 },
 "nbformat": 4,
 "nbformat_minor": 5
}
