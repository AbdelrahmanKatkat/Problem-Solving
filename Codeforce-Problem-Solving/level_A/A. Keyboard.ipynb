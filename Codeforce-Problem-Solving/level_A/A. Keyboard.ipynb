{
 "cells": [
  {
   "cell_type": "markdown",
   "id": "37f8b842",
   "metadata": {},
   "source": [
    "Our good friend Mole is trying to code a big message. He is typing on an unusual keyboard with characters arranged in following way:\n",
    "\n",
    "\n",
    "qwertyuiop\n",
    "asdfghjkl;\n",
    "zxcvbnm,./\n",
    "Unfortunately Mole is blind, so sometimes it is problem for him to put his hands accurately. He accidentally moved both his hands with one position to the left or to the right. That means that now he presses not a button he wants, but one neighboring button (left or right, as specified in input).\n",
    "\n",
    "## Target \n",
    "\n",
    "We have a sequence of characters he has typed and we want to find the original message.\n",
    "\n",
    "## Input\n",
    "\n",
    "- First line of the input contains one letter describing direction of shifting ('L' or 'R' respectively for left or right).\n",
    "\n",
    "- Second line contains a sequence of characters written by Mole. \n",
    "    - The size of this sequence will be no more than 100. Sequence contains only symbols that appear on Mole's keyboard.\n",
    "    - It doesn't contain spaces as there is no space on Mole's keyboard.\n",
    "\n",
    "    - It is guaranteed that even though Mole hands are moved, he is still pressing buttons on keyboard and not hitting outside it.\n",
    "\n",
    "## Output\n",
    "- Print a line that contains the original message."
   ]
  },
  {
   "cell_type": "markdown",
   "id": "6b8c8be5",
   "metadata": {},
   "source": [
    "## Terminology\n",
    "- d :        L, or R shift\n",
    "- s :        String Written\n",
    "- c_s :      Correct String\n",
    "- K : keyboard\n",
    "## Idea \n",
    "- Make a keyboard list\n",
    "- check every element index in keyboard list\n",
    "- Shift element depending on R, or L"
   ]
  },
  {
   "cell_type": "code",
   "execution_count": 44,
   "id": "c3536578",
   "metadata": {},
   "outputs": [
    {
     "name": "stdout",
     "output_type": "stream",
     "text": [
      "R\n",
      "s;;upimrrfod;pbr\n",
      "allyouneedislove\n"
     ]
    }
   ],
   "source": [
    "d=input()\n",
    "s=input()\n",
    "s_list=[]\n",
    "\n",
    "## Turn s to list\n",
    "for item in s:\n",
    "    s_list.append(item)\n",
    "\n",
    "## List of keyboard\n",
    "k='qwertyuiopasdfghjkl;zxcvbnm,./'\n",
    "k_list=[]\n",
    "for item in k:\n",
    "    k_list.append(item)\n",
    "n=len(k_list)\n",
    "\n",
    "## Shift the I/P\n",
    "c_s=''\n",
    "for item in s_list:\n",
    "    if d=='R':\n",
    "        i=0\n",
    "        while i<n:\n",
    "            if item==k_list[i]:\n",
    "                c_s=c_s+k_list[i-1]\n",
    "            i=i+1\n",
    "    elif d=='L':\n",
    "        i=0\n",
    "        while i<n:\n",
    "            if item==k_list[i]:\n",
    "                c_s=c_s+k_list[i+1]\n",
    "            i=i+1\n",
    "## Print O/P\n",
    "print(c_s)"
   ]
  },
  {
   "cell_type": "markdown",
   "id": "e20a802c",
   "metadata": {},
   "source": [
    "## Trials"
   ]
  },
  {
   "cell_type": "code",
   "execution_count": 1,
   "id": "a83d6e85",
   "metadata": {},
   "outputs": [
    {
     "name": "stdout",
     "output_type": "stream",
     "text": [
      "R\n"
     ]
    }
   ],
   "source": [
    "d=input()"
   ]
  },
  {
   "cell_type": "code",
   "execution_count": 2,
   "id": "747f4594",
   "metadata": {},
   "outputs": [
    {
     "name": "stdout",
     "output_type": "stream",
     "text": [
      "s;;upimrrfod;pbr\n"
     ]
    }
   ],
   "source": [
    "s=input()"
   ]
  },
  {
   "cell_type": "code",
   "execution_count": 4,
   "id": "1bfa7415",
   "metadata": {},
   "outputs": [],
   "source": [
    "s_list=[]\n",
    "for item in s:\n",
    "    s_list.append(item)"
   ]
  },
  {
   "cell_type": "code",
   "execution_count": 5,
   "id": "b935c9d7",
   "metadata": {},
   "outputs": [],
   "source": [
    "k='qwertyuiopasdfghjkl;zxcvbnm,./'"
   ]
  },
  {
   "cell_type": "code",
   "execution_count": 6,
   "id": "8b809a70",
   "metadata": {},
   "outputs": [],
   "source": [
    "k_list=[]\n",
    "for item in k:\n",
    "    k_list.append(item)"
   ]
  },
  {
   "cell_type": "code",
   "execution_count": 39,
   "id": "e75614bf",
   "metadata": {},
   "outputs": [],
   "source": [
    "n=len(k_list)"
   ]
  },
  {
   "cell_type": "code",
   "execution_count": 38,
   "id": "b94fcbda",
   "metadata": {},
   "outputs": [
    {
     "data": {
      "text/plain": [
       "16"
      ]
     },
     "execution_count": 38,
     "metadata": {},
     "output_type": "execute_result"
    }
   ],
   "source": [
    "n"
   ]
  },
  {
   "cell_type": "code",
   "execution_count": 42,
   "id": "35a8f03b",
   "metadata": {},
   "outputs": [],
   "source": [
    "c_s=''\n",
    "for item in s_list:\n",
    "    if d=='R':\n",
    "        i=0\n",
    "        while i<n:\n",
    "            if item==k_list[i]:\n",
    "                c_s=c_s+k_list[i-1]\n",
    "            i=i+1\n",
    "    elif d=='L':\n",
    "        i=0\n",
    "        while i<n:\n",
    "            if item==k_list[i]:\n",
    "                c_s=c_s+k_list[i+1]\n",
    "            i=i+1"
   ]
  },
  {
   "cell_type": "code",
   "execution_count": 43,
   "id": "3e11cbad",
   "metadata": {},
   "outputs": [
    {
     "name": "stdout",
     "output_type": "stream",
     "text": [
      "allyouneedislove\n"
     ]
    }
   ],
   "source": [
    "print(c_s)"
   ]
  },
  {
   "cell_type": "code",
   "execution_count": 8,
   "id": "61354ddc",
   "metadata": {},
   "outputs": [],
   "source": [
    "n=len(k_list)"
   ]
  },
  {
   "cell_type": "code",
   "execution_count": 9,
   "id": "a3492b12",
   "metadata": {},
   "outputs": [],
   "source": [
    "k_dict=dict.fromkeys(i for i in range(0,n))"
   ]
  },
  {
   "cell_type": "code",
   "execution_count": null,
   "id": "2a0f32a6",
   "metadata": {},
   "outputs": [],
   "source": []
  },
  {
   "cell_type": "code",
   "execution_count": null,
   "id": "034fe56c",
   "metadata": {},
   "outputs": [],
   "source": []
  },
  {
   "cell_type": "code",
   "execution_count": null,
   "id": "f5f150ea",
   "metadata": {},
   "outputs": [],
   "source": []
  },
  {
   "cell_type": "code",
   "execution_count": null,
   "id": "c2f1a769",
   "metadata": {},
   "outputs": [],
   "source": []
  },
  {
   "cell_type": "code",
   "execution_count": 16,
   "id": "641a7f87",
   "metadata": {},
   "outputs": [],
   "source": [
    "for i in range(0,n):\n",
    "    k_dict[i]=k_list[i]"
   ]
  },
  {
   "cell_type": "code",
   "execution_count": 17,
   "id": "d3bcdc5d",
   "metadata": {},
   "outputs": [
    {
     "data": {
      "text/plain": [
       "{0: 'q',\n",
       " 1: 'w',\n",
       " 2: 'e',\n",
       " 3: 'r',\n",
       " 4: 't',\n",
       " 5: 'y',\n",
       " 6: 'u',\n",
       " 7: 'i',\n",
       " 8: 'o',\n",
       " 9: 'p',\n",
       " 10: 'a',\n",
       " 11: 's',\n",
       " 12: 'd',\n",
       " 13: 'f',\n",
       " 14: 'g',\n",
       " 15: 'h',\n",
       " 16: 'j',\n",
       " 17: 'k',\n",
       " 18: 'l',\n",
       " 19: ';',\n",
       " 20: 'z',\n",
       " 21: 'x',\n",
       " 22: 'c',\n",
       " 23: 'v',\n",
       " 24: 'b',\n",
       " 25: 'n',\n",
       " 26: 'm',\n",
       " 27: ',',\n",
       " 28: '.',\n",
       " 29: '/'}"
      ]
     },
     "execution_count": 17,
     "metadata": {},
     "output_type": "execute_result"
    }
   ],
   "source": [
    "k_dict"
   ]
  },
  {
   "cell_type": "code",
   "execution_count": null,
   "id": "04fcaee5",
   "metadata": {},
   "outputs": [],
   "source": []
  },
  {
   "cell_type": "code",
   "execution_count": null,
   "id": "a0782c61",
   "metadata": {},
   "outputs": [],
   "source": []
  }
 ],
 "metadata": {
  "kernelspec": {
   "display_name": "Python 3 (ipykernel)",
   "language": "python",
   "name": "python3"
  },
  "language_info": {
   "codemirror_mode": {
    "name": "ipython",
    "version": 3
   },
   "file_extension": ".py",
   "mimetype": "text/x-python",
   "name": "python",
   "nbconvert_exporter": "python",
   "pygments_lexer": "ipython3",
   "version": "3.9.7"
  }
 },
 "nbformat": 4,
 "nbformat_minor": 5
}
