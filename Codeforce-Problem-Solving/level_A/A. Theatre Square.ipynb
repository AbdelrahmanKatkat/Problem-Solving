{
 "cells": [
  {
   "cell_type": "markdown",
   "id": "cac3102c",
   "metadata": {},
   "source": [
    "Theatre Square in the capital city of Berland has a rectangular shape with the size n × m meters. On the occasion of the city's anniversary, a decision was taken to pave the Square with square granite flagstones. Each flagstone is of the size a × a.\n",
    "\n",
    "### Task\n",
    "What is the least number of flagstones needed to pave the Square? \n",
    "\n",
    "\n",
    "### Constraint\n",
    "- It's allowed to cover the surface larger than the Theatre Square, but the Square has to be covered. \n",
    "- It's not allowed to break the flagstones.\n",
    "- The sides of flagstones should be parallel to the sides of the Square.\n",
    "\n",
    "### I/P\n",
    "The input contains three positive integer numbers in the first line: n,  m and a\n",
    "\n",
    "### O/P\n",
    "Write the needed number of flagstones.\n",
    "\n",
    "### Terminology\n",
    "- n x m :  dim of square theatre\n",
    "- a :    dim of flagstone\n",
    "- n_f :  number of flagstone"
   ]
  },
  {
   "cell_type": "markdown",
   "id": "e60cd3dc",
   "metadata": {},
   "source": [
    "### Idea:\n",
    "- I will study each case on it's own\n",
    "- I have three cases:\n",
    "    - a>m,n\n",
    "    - a<m,n\n",
    "    - a>m or a>n\n",
    "- Another Solution\n",
    "    - Use math library \n",
    "    - Divide m, n on a and get the higher ceil value\n",
    "     "
   ]
  },
  {
   "cell_type": "markdown",
   "id": "7acd335f",
   "metadata": {},
   "source": [
    "### Submitted"
   ]
  },
  {
   "cell_type": "code",
   "execution_count": 81,
   "id": "292a7f96",
   "metadata": {},
   "outputs": [
    {
     "name": "stdout",
     "output_type": "stream",
     "text": [
      "4 13 6\n",
      "3\n"
     ]
    }
   ],
   "source": [
    "n_m_a=input()\n",
    "n_m_a_list=n_m_a.split(' ')\n",
    "n=int(n_m_a_list[0])\n",
    "m=int(n_m_a_list[1])\n",
    "a=int(n_m_a_list[2])\n",
    "x=0\n",
    "y=0\n",
    "z=1\n",
    "n_f=0\n",
    "n_f_x=0\n",
    "n_f_y=0\n",
    "if a>=m and a>=n:\n",
    "    n_f=1\n",
    "    print(n_f)\n",
    "elif a>=m and a<n:\n",
    "    while y<n:\n",
    "        y=y+a\n",
    "        n_f=n_f+1\n",
    "        #print(n_f)\n",
    "    print(n_f)\n",
    "elif a>=n and a<m:\n",
    "    while x<m:\n",
    "        x=x+a\n",
    "        n_f=n_f+1\n",
    "    print(n_f)\n",
    "elif a<m and a<n:\n",
    "    while x<m:\n",
    "        x=x+a\n",
    "        n_f_x=n_f_x+1\n",
    "    while y<n:\n",
    "        y=y+a\n",
    "        n_f=n_f_x*z\n",
    "        z=z+1\n",
    "    print(n_f)"
   ]
  },
  {
   "cell_type": "code",
   "execution_count": 80,
   "id": "3a35f911",
   "metadata": {},
   "outputs": [
    {
     "name": "stdout",
     "output_type": "stream",
     "text": [
      "4 13 6\n",
      "3\n"
     ]
    }
   ],
   "source": [
    "import math\n",
    "n_m_a=input()\n",
    "n_m_a_list=n_m_a.split(' ')\n",
    "n=int(n_m_a_list[0])\n",
    "m=int(n_m_a_list[1])\n",
    "a=int(n_m_a_list[2])\n",
    "x=math.ceil(m/a)\n",
    "y=math.ceil(n/a)\n",
    "n_f=x*y\n",
    "print(n_f)"
   ]
  },
  {
   "cell_type": "code",
   "execution_count": 83,
   "id": "95ae9824",
   "metadata": {},
   "outputs": [],
   "source": [
    "def Get_higher(num,dom):\n",
    "    if num%dom==0:\n",
    "        return int(num/dom)\n",
    "    else:\n",
    "        return int((num/dom)+1)"
   ]
  },
  {
   "cell_type": "code",
   "execution_count": 84,
   "id": "aa0e926d",
   "metadata": {},
   "outputs": [
    {
     "data": {
      "text/plain": [
       "1"
      ]
     },
     "execution_count": 84,
     "metadata": {},
     "output_type": "execute_result"
    }
   ],
   "source": [
    "Get_higher(3,4)"
   ]
  },
  {
   "cell_type": "markdown",
   "id": "933ffa72",
   "metadata": {},
   "source": [
    "### Trials"
   ]
  },
  {
   "cell_type": "code",
   "execution_count": 19,
   "id": "14a63853",
   "metadata": {},
   "outputs": [
    {
     "name": "stdout",
     "output_type": "stream",
     "text": [
      "6 6 2\n"
     ]
    }
   ],
   "source": [
    "n_m_a=input()"
   ]
  },
  {
   "cell_type": "code",
   "execution_count": 20,
   "id": "ea59dbee",
   "metadata": {},
   "outputs": [],
   "source": [
    "n_m_a_list=n_m_a.split(' ')"
   ]
  },
  {
   "cell_type": "code",
   "execution_count": 21,
   "id": "bbaf09ea",
   "metadata": {},
   "outputs": [],
   "source": [
    "n=int(n_m_a_list[0])\n",
    "m=int(n_m_a_list[1])\n",
    "a=int(n_m_a_list[2])"
   ]
  },
  {
   "cell_type": "code",
   "execution_count": 33,
   "id": "a4f9abdd",
   "metadata": {},
   "outputs": [
    {
     "name": "stdout",
     "output_type": "stream",
     "text": [
      "3\n",
      "6\n",
      "9\n",
      "9\n"
     ]
    }
   ],
   "source": [
    "x=0\n",
    "y=0\n",
    "z=1\n",
    "n_f=0\n",
    "n_f_x=0\n",
    "n_f_y=0\n",
    "if a>=m and a>=n:\n",
    "    n_f=1\n",
    "    print(n_f)\n",
    "elif a>=m and a<n:\n",
    "    while y<n:\n",
    "        y=y+a\n",
    "        n_f=n_f+1   \n",
    "    print(n_f)\n",
    "elif a>=n and a<m:\n",
    "    while x<n:\n",
    "        x=x+a\n",
    "        n_f=n_f+1\n",
    "    print(n_f)\n",
    "elif a<m and a<n:\n",
    "    while x<m:\n",
    "        x=x+a\n",
    "        n_f_x=n_f_x+1\n",
    "    while y<n:\n",
    "        y=y+a\n",
    "        n_f=n_f_x*z\n",
    "        z=z+1\n",
    "        #print(z)\n",
    "        #print(n_f)\n",
    "        #print(n_f)\n",
    "    print(n_f)"
   ]
  },
  {
   "cell_type": "code",
   "execution_count": 32,
   "id": "89eaa53c",
   "metadata": {},
   "outputs": [
    {
     "name": "stdout",
     "output_type": "stream",
     "text": [
      "18\n"
     ]
    }
   ],
   "source": [
    "\n",
    "n_f=n_f*3\n",
    "print(n_f)"
   ]
  },
  {
   "cell_type": "code",
   "execution_count": null,
   "id": "5180ed40",
   "metadata": {},
   "outputs": [],
   "source": []
  },
  {
   "cell_type": "code",
   "execution_count": 9,
   "id": "50acb0ca",
   "metadata": {},
   "outputs": [],
   "source": [
    "x=0\n",
    "y=0\n",
    "n_f=0\n",
    "while x<n:\n",
    "    n_f=n_f+1\n",
    "    x=x+a\n",
    "while y<m:\n",
    "    n_f=n_f+1\n",
    "    y=y+a"
   ]
  },
  {
   "cell_type": "code",
   "execution_count": 10,
   "id": "48e41187",
   "metadata": {},
   "outputs": [
    {
     "data": {
      "text/plain": [
       "4"
      ]
     },
     "execution_count": 10,
     "metadata": {},
     "output_type": "execute_result"
    }
   ],
   "source": [
    "n_f"
   ]
  },
  {
   "cell_type": "code",
   "execution_count": null,
   "id": "0fd06ab4",
   "metadata": {},
   "outputs": [],
   "source": []
  }
 ],
 "metadata": {
  "kernelspec": {
   "display_name": "Python 3 (ipykernel)",
   "language": "python",
   "name": "python3"
  },
  "language_info": {
   "codemirror_mode": {
    "name": "ipython",
    "version": 3
   },
   "file_extension": ".py",
   "mimetype": "text/x-python",
   "name": "python",
   "nbconvert_exporter": "python",
   "pygments_lexer": "ipython3",
   "version": "3.9.7"
  }
 },
 "nbformat": 4,
 "nbformat_minor": 5
}
