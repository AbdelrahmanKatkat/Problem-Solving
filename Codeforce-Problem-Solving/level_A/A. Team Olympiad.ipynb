{
 "cells": [
  {
   "cell_type": "markdown",
   "id": "0d1062fc",
   "metadata": {},
   "source": [
    "The School №0 of the capital of Berland has n children studying in it. All the children in this school are gifted: some of them are good at programming, some are good at maths, others are good at PE (Physical Education). Hence, for each child we know value ti:\n",
    "\n",
    "ti = 1, if the i-th child is good at programming,\n",
    "ti = 2, if the i-th child is good at maths,\n",
    "ti = 3, if the i-th child is good at PE\n",
    "Each child happens to be good at exactly one of these three subjects.\n",
    "\n",
    "The Team Scientific Decathlon Olympias requires teams of three students. The school teachers decided that the teams will be composed of three children that are good at different subjects. That is, each team must have one mathematician, one programmer and one sportsman. Of course, each child can be a member of no more than one team.\n",
    "\n",
    "What is the maximum number of teams that the school will be able to present at the Olympiad? How should the teams be formed for that?\n",
    "\n",
    "## Input\n",
    "The first line contains integer n (1 ≤ n ≤ 5000) — the number of children in the school. The second line contains n integers t1, t2, ..., tn (1 ≤ ti ≤ 3), where ti describes the skill of the i-th child.\n",
    "\n",
    "## Output\n",
    "In the first line output integer w — the largest possible number of teams.\n",
    "\n",
    "Then print w lines, containing three numbers in each line. Each triple represents the indexes of the children forming the team. You can print both the teams, and the numbers in the triplets in any order. The children are numbered from 1 to n in the order of their appearance in the input. Each child must participate in no more than one team. If there are several solutions, print any of them.\n",
    "\n",
    "If no teams can be compiled, print the only line with value w equal to 0."
   ]
  },
  {
   "cell_type": "markdown",
   "id": "9fc2bdec",
   "metadata": {},
   "source": [
    "## Terminology\n",
    "\n",
    "- n the number of children\n",
    "- ti = 1, if the i-th child is good at programming, \n",
    "- ti = 2, if the i-th child is good at maths,\n",
    "- ti = 3, if the i-th child is good at PE\n",
    "- W largest possible number of teams"
   ]
  },
  {
   "cell_type": "code",
   "execution_count": 52,
   "id": "e07ccd29",
   "metadata": {},
   "outputs": [
    {
     "name": "stdout",
     "output_type": "stream",
     "text": [
      "4\n"
     ]
    }
   ],
   "source": [
    "n=int(input())"
   ]
  },
  {
   "cell_type": "code",
   "execution_count": 53,
   "id": "f660c4e3",
   "metadata": {},
   "outputs": [],
   "source": [
    "y=0\n",
    "def selector(t1,t2,t3):\n",
    "    global y\n",
    "    if y==w:\n",
    "        return \n",
    "    else:\n",
    "        print([t1[y],t2[y],t3[y]])\n",
    "        y=y+1\n",
    "        return selector(t1,t2,t3)"
   ]
  },
  {
   "cell_type": "code",
   "execution_count": 54,
   "id": "566cdf24",
   "metadata": {},
   "outputs": [
    {
     "name": "stdout",
     "output_type": "stream",
     "text": [
      "2\n",
      "1\n",
      "1\n",
      "2\n",
      "0\n"
     ]
    }
   ],
   "source": [
    "i=0\n",
    "arr=[]\n",
    "t1=[]\n",
    "t2=[]\n",
    "t3=[]\n",
    "while i<n:\n",
    "    t=int(input())\n",
    "    arr.append(t)\n",
    "    if t==1:\n",
    "        t1.append(i)\n",
    "    elif t==2:\n",
    "        t2.append(i)\n",
    "    elif t==3:\n",
    "        t3.append(i)\n",
    "    i=i+1\n",
    "if len(t1)<=len(t2) & len(t1)<=len(t3):\n",
    "    w=len(t1)\n",
    "    print(len(t1))\n",
    "elif len(t2)<=len(t1) & len(t2)<=len(t3):\n",
    "    w=len(t2)\n",
    "    print(len(t2))\n",
    "elif len(t3)<=len(t1) & len(t3)<=len(t2):\n",
    "    w=len(t3)\n",
    "    print(len(t3))\n",
    "selector(t1,t2,t3)"
   ]
  },
  {
   "cell_type": "code",
   "execution_count": 71,
   "id": "dd90d4b9",
   "metadata": {},
   "outputs": [
    {
     "name": "stdout",
     "output_type": "stream",
     "text": [
      "7\n",
      "1\n",
      "3\n",
      "1\n",
      "3\n",
      "2\n",
      "1\n",
      "2\n",
      "2\n",
      "[0, 4, 1]\n",
      "[2, 6, 3]\n"
     ]
    }
   ],
   "source": [
    "n=int(input())\n",
    "i=0\n",
    "arr=[]\n",
    "t1=[]\n",
    "t2=[]\n",
    "t3=[]\n",
    "while i<n:\n",
    "    t=int(input())\n",
    "    arr.append(t)\n",
    "    if t==1:\n",
    "        t1.append(i)\n",
    "    elif t==2:\n",
    "        t2.append(i)\n",
    "    elif t==3:\n",
    "        t3.append(i)\n",
    "    i=i+1\n",
    "if len(t1)<=len(t2) and len(t1)<=len(t3):\n",
    "    w=len(t1)\n",
    "elif len(t2)<=len(t1) and len(t2)<=len(t3):\n",
    "    w=len(t2)\n",
    "elif len(t3)<=len(t1) and len(t3)<=len(t2):\n",
    "    w=len(t3)\n",
    "\n",
    "def selector(t1,t2,t3,y):   \n",
    "    if y==w:\n",
    "        return \n",
    "    else:\n",
    "        print([t1[y],t2[y],t3[y]])\n",
    "        return selector(t1,t2,t3,y+1)\n",
    "print(w)\n",
    "selector(t1,t2,t3,0)"
   ]
  },
  {
   "cell_type": "code",
   "execution_count": 72,
   "id": "4fe50e9c",
   "metadata": {},
   "outputs": [
    {
     "data": {
      "text/plain": [
       "[0, 2, 5]"
      ]
     },
     "execution_count": 72,
     "metadata": {},
     "output_type": "execute_result"
    }
   ],
   "source": [
    "if len(t1)<=len(t2) and len(t1)<=len(t3):\n",
    "    w=len(t1)\n",
    "elif len(t2)<=len(t1) and len(t2)<=len(t3):\n",
    "    w=len(t2)\n",
    "elif len(t3)<=len(t1) and len(t3)<=len(t2):\n",
    "    w=len(t3)\n"
   ]
  },
  {
   "cell_type": "code",
   "execution_count": 24,
   "id": "b29effc7",
   "metadata": {},
   "outputs": [
    {
     "data": {
      "text/plain": [
       "[1, 3, 1, 3, 2, 1, 2]"
      ]
     },
     "execution_count": 24,
     "metadata": {},
     "output_type": "execute_result"
    }
   ],
   "source": [
    "arr"
   ]
  },
  {
   "cell_type": "code",
   "execution_count": 40,
   "id": "b4f7b4c8",
   "metadata": {},
   "outputs": [],
   "source": [
    "i=0\n",
    "def selector(t1,t2,t3):\n",
    "    global i\n",
    "    if i==w:\n",
    "        return \n",
    "    else:\n",
    "        print([t1[i],t2[i],t3[i]])\n",
    "        i=i+1\n",
    "        return selector(t1,t2,t3)"
   ]
  },
  {
   "cell_type": "code",
   "execution_count": 48,
   "id": "fe78759f",
   "metadata": {},
   "outputs": [
    {
     "name": "stdout",
     "output_type": "stream",
     "text": [
      "[0, 4, 1]\n",
      "[2, 6, 3]\n"
     ]
    }
   ],
   "source": [
    "selector(t1,t2,t3)"
   ]
  },
  {
   "cell_type": "code",
   "execution_count": null,
   "id": "8129716f",
   "metadata": {},
   "outputs": [],
   "source": []
  }
 ],
 "metadata": {
  "kernelspec": {
   "display_name": "Python 3",
   "language": "python",
   "name": "python3"
  },
  "language_info": {
   "codemirror_mode": {
    "name": "ipython",
    "version": 3
   },
   "file_extension": ".py",
   "mimetype": "text/x-python",
   "name": "python",
   "nbconvert_exporter": "python",
   "pygments_lexer": "ipython3",
   "version": "3.8.8"
  }
 },
 "nbformat": 4,
 "nbformat_minor": 5
}
