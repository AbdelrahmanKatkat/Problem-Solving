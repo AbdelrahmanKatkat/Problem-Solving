{
 "cells": [
  {
   "cell_type": "markdown",
   "id": "b55cc32a",
   "metadata": {},
   "source": [
    "In some game by Playrix it takes t minutes for an oven to bake k carrot cakes, all cakes are ready at the same moment t minutes after they started baking. Arkady needs at least n cakes to complete a task, but he currently don't have any. However, he has infinitely many ingredients and one oven. Moreover, Arkady can build one more similar oven to make the process faster, it would take d minutes to build the oven. While the new oven is being built, only old one can bake cakes, after the new oven is built, both ovens bake simultaneously. Arkady can't build more than one oven.\n",
    "\n",
    "Determine if it is reasonable to build the second oven, i.e. will it decrease the minimum time needed to get n cakes or not. If the time needed with the second oven is the same as with one oven, then it is unreasonable.\n",
    "\n",
    "## Input\n",
    "The only line contains four integers n, t, k, d (1 ≤ n, t, k, d ≤ 1 000) — the number of cakes needed, the time needed for one oven to bake k cakes, the number of cakes baked at the same time, the time needed to build the second oven.\n",
    "\n",
    "## Output\n",
    "If it is reasonable to build the second oven, print \"YES\". Otherwise print \"NO\".\n",
    "## Terminology\n"
   ]
  },
  {
   "cell_type": "markdown",
   "id": "6af91d41",
   "metadata": {},
   "source": [
    "## Example\n",
    "    - your are requested to decide if building a second oven to help the first oven is useful, or not\n",
    "    - Both oven bake are identical\n",
    "    - Both oven build n cakes in t time"
   ]
  },
  {
   "cell_type": "markdown",
   "id": "ceaa85b7",
   "metadata": {},
   "source": [
    "## Example variable\n",
    "    -The only line contains four integers n, t, k, d (1 ≤ n, t, k, d ≤ 1 000) — \n",
    "    -n the number of cakes needed, \n",
    "    -t the time needed for one oven to bake k cakes,\n",
    "    -k the number of cakes baked at the same time,\n",
    "    -d the time needed to build the second oven."
   ]
  },
  {
   "cell_type": "code",
   "execution_count": 1,
   "id": "75315656",
   "metadata": {},
   "outputs": [
    {
     "name": "stdout",
     "output_type": "stream",
     "text": [
      "8\n",
      "6\n",
      "4\n",
      "5\n"
     ]
    }
   ],
   "source": [
    "n=int(input())\n",
    "t=int(input())\n",
    "k=int(input())\n",
    "d=int(input())"
   ]
  },
  {
   "cell_type": "code",
   "execution_count": 2,
   "id": "ab2d60e2",
   "metadata": {},
   "outputs": [],
   "source": [
    "if n%k==0:\n",
    "    T_current=t*(n/k)\n",
    "else:\n",
    "    T_current=t*(n/k-(n%k)/k)+t"
   ]
  },
  {
   "cell_type": "code",
   "execution_count": 3,
   "id": "c6d131f0",
   "metadata": {},
   "outputs": [
    {
     "name": "stdout",
     "output_type": "stream",
     "text": [
      "1\n",
      "6\n",
      "2\n",
      "12\n"
     ]
    }
   ],
   "source": [
    "time_o1=0\n",
    "time_o2=d\n",
    "i=0\n",
    "num_cakes=0\n",
    "if t<d:\n",
    "    while num_cakes<n:\n",
    "        time_o1=time_o1+t\n",
    "        num_cakes=num_cakes+k\n",
    "        if time_o1>d+t*i:\n",
    "            i=i+1\n",
    "            time_o2=time_o2+t\n",
    "            num_cakes=num_cakes+k    \n",
    "else:\n",
    "     while num_cakes<n:\n",
    "        if time_o1>d+t*i:\n",
    "            time_o2=time_o2+t\n",
    "            print(time_o2)\n",
    "            num_cakes=num_cakes+k \n",
    "            if num_cakes>=n:\n",
    "                break         \n",
    "        time_o1=time_o1+t\n",
    "        i=i+1\n",
    "        print(i)\n",
    "        print(time_o1)\n",
    "        num_cakes=num_cakes+k\n",
    "    \n",
    "T_modified=time_o1+time_o2"
   ]
  },
  {
   "cell_type": "code",
   "execution_count": 4,
   "id": "5de2a22c",
   "metadata": {},
   "outputs": [
    {
     "data": {
      "text/plain": [
       "17"
      ]
     },
     "execution_count": 4,
     "metadata": {},
     "output_type": "execute_result"
    }
   ],
   "source": [
    "T_modified"
   ]
  },
  {
   "cell_type": "code",
   "execution_count": 5,
   "id": "471c1625",
   "metadata": {},
   "outputs": [
    {
     "data": {
      "text/plain": [
       "8"
      ]
     },
     "execution_count": 5,
     "metadata": {},
     "output_type": "execute_result"
    }
   ],
   "source": [
    "num_cakes"
   ]
  },
  {
   "cell_type": "code",
   "execution_count": 6,
   "id": "db364cda",
   "metadata": {},
   "outputs": [
    {
     "name": "stdout",
     "output_type": "stream",
     "text": [
      "NO\n"
     ]
    }
   ],
   "source": [
    "if T_current<=T_modified:\n",
    "    print('NO')\n",
    "else:\n",
    "    print('YES')"
   ]
  },
  {
   "cell_type": "code",
   "execution_count": 7,
   "id": "84c766b6",
   "metadata": {},
   "outputs": [
    {
     "data": {
      "text/plain": [
       "12.0"
      ]
     },
     "execution_count": 7,
     "metadata": {},
     "output_type": "execute_result"
    }
   ],
   "source": [
    "T_current"
   ]
  },
  {
   "cell_type": "code",
   "execution_count": 8,
   "id": "237199d0",
   "metadata": {},
   "outputs": [
    {
     "data": {
      "text/plain": [
       "17"
      ]
     },
     "execution_count": 8,
     "metadata": {},
     "output_type": "execute_result"
    }
   ],
   "source": [
    "T_modified"
   ]
  },
  {
   "cell_type": "code",
   "execution_count": null,
   "id": "92f36b16",
   "metadata": {},
   "outputs": [],
   "source": []
  }
 ],
 "metadata": {
  "kernelspec": {
   "display_name": "Python 3 (ipykernel)",
   "language": "python",
   "name": "python3"
  },
  "language_info": {
   "codemirror_mode": {
    "name": "ipython",
    "version": 3
   },
   "file_extension": ".py",
   "mimetype": "text/x-python",
   "name": "python",
   "nbconvert_exporter": "python",
   "pygments_lexer": "ipython3",
   "version": "3.9.7"
  }
 },
 "nbformat": 4,
 "nbformat_minor": 5
}
