{
 "cells": [
  {
   "cell_type": "markdown",
   "metadata": {},
   "source": [
    "Small, but very brave, mouse Brain was not accepted to summer school of young villains. He was upset and decided to postpone his plans of taking over the world, but to become a photographer instead.\n",
    "\n",
    "As you may know, the coolest photos are on the film (because you can specify the hashtag #film for such).\n",
    "\n",
    "Brain took a lot of colourful pictures on colored and black-and-white film. Then he developed and translated it into a digital form. But now, color and black-and-white photos are in one folder, and to sort them, one needs to spend more than one hour!\n",
    "\n",
    "Photo can be represented as a matrix sized n × m, and each element of the matrix stores a symbol indicating corresponding pixel color. There are only 6 colors:\n",
    "\n",
    "- 'C' (cyan)\n",
    "- 'M' (magenta)\n",
    "- 'Y' (yellow)\n",
    "- 'W' (white)\n",
    "- 'G' (grey)\n",
    "- 'B' (black)\n",
    "\n",
    "### Target\n",
    "As soon as Brain is a photographer not programmer now, he asks you to help him determine for a single photo whether it is colored or black-and-white.\n",
    "\n",
    "### Constraint\n",
    "- The photo is considered black-and-white if it has only white, black and grey pixels in it\n",
    "- If there are any of cyan, magenta or yellow pixels in the photo then it is considered colored.\n",
    "\n",
    "### Input\n",
    "- The first line of the input contains two integers n and m (1 ≤ n, m ≤ 100) \n",
    "    - The number of photo pixel matrix rows and columns respectively nxm\n",
    "\n",
    "- Then n lines describing matrix rows follow describing colors of pixels in a row. \n",
    "    - Each character in the line is one of the 'C', 'M', 'Y', 'W', 'G' or 'B'.\n",
    "\n",
    "### Output\n",
    "- Print the \"#Black&White\" (without quotes), if the photo is black-and-white \n",
    "- Print the  #Color\" (without quotes), if it is colored, in the only line.\n",
    "\n",
    "### Terminology\n",
    "- n row of pixels\n",
    "- m coloumns of pixels\n",
    "- C colors matrix \n",
    "\n",
    "### Idea\n",
    "- Make a list of all element of the photo\n",
    "- Count the number of White and Black \n",
    "- if the count == the element number then it's Black and White, else it's colored"
   ]
  },
  {
   "cell_type": "markdown",
   "metadata": {},
   "source": [
    "### Submitted"
   ]
  },
  {
   "cell_type": "code",
   "execution_count": 55,
   "metadata": {},
   "outputs": [
    {
     "name": "stdout",
     "output_type": "stream",
     "text": [
      "1 3\n",
      "W G B\n",
      "#Black&White\n"
     ]
    }
   ],
   "source": [
    "n_m=input()\n",
    "n_m_list=n_m.split(' ')\n",
    "n=int(n_m_list[0])\n",
    "m=int(n_m_list[1])\n",
    "i=0\n",
    "C_list=[]\n",
    "while i<n:\n",
    "    C=input()\n",
    "    C_temp=C.split(' ')\n",
    "    for item in C_temp:\n",
    "        C_list.append(item)\n",
    "    i=i+1\n",
    "x=len(C_list)\n",
    "i=0\n",
    "counter=0\n",
    "while i<x:\n",
    "    if C_list[i]=='W' or C_list[i]=='B' or C_list[i]=='G':\n",
    "        counter=counter+1\n",
    "    i=i+1\n",
    "if counter==x:\n",
    "    print('#Black&White')\n",
    "else:\n",
    "    print('#Color')\n",
    "    "
   ]
  },
  {
   "cell_type": "markdown",
   "metadata": {},
   "source": [
    "### Trials"
   ]
  },
  {
   "cell_type": "code",
   "execution_count": 50,
   "metadata": {},
   "outputs": [
    {
     "name": "stdout",
     "output_type": "stream",
     "text": [
      "1 1\n"
     ]
    }
   ],
   "source": [
    "n_m=input()\n",
    "n_m_list=n_m.split(' ')\n",
    "n=int(n_m_list[0])\n",
    "m=int(n_m_list[1])"
   ]
  },
  {
   "cell_type": "code",
   "execution_count": 51,
   "metadata": {},
   "outputs": [
    {
     "name": "stdout",
     "output_type": "stream",
     "text": [
      "W\n"
     ]
    }
   ],
   "source": [
    "i=0\n",
    "C_list=[]\n",
    "while i<n:\n",
    "    C=input()\n",
    "    C_temp=C.split(' ')\n",
    "    for item in C_temp:\n",
    "        C_list.append(item)\n",
    "    i=i+1"
   ]
  },
  {
   "cell_type": "code",
   "execution_count": 52,
   "metadata": {},
   "outputs": [],
   "source": [
    "x=len(C_list)"
   ]
  },
  {
   "cell_type": "code",
   "execution_count": 53,
   "metadata": {},
   "outputs": [],
   "source": [
    "i=0\n",
    "counter=0\n",
    "while i<x:\n",
    "    if C_list[i]=='W' or C_list[i]=='B'or C_list[i]=='G':\n",
    "        counter=counter+1\n",
    "    i=i+1\n",
    "\n",
    "    "
   ]
  },
  {
   "cell_type": "code",
   "execution_count": 54,
   "metadata": {},
   "outputs": [
    {
     "name": "stdout",
     "output_type": "stream",
     "text": [
      "#Black&White\n"
     ]
    }
   ],
   "source": [
    "if counter==x:\n",
    "    print('#Black&White')\n",
    "else:\n",
    "    print('#Color')"
   ]
  },
  {
   "cell_type": "code",
   "execution_count": null,
   "metadata": {},
   "outputs": [],
   "source": []
  }
 ],
 "metadata": {
  "kernelspec": {
   "display_name": "Python 3",
   "language": "python",
   "name": "python3"
  },
  "language_info": {
   "codemirror_mode": {
    "name": "ipython",
    "version": 3
   },
   "file_extension": ".py",
   "mimetype": "text/x-python",
   "name": "python",
   "nbconvert_exporter": "python",
   "pygments_lexer": "ipython3",
   "version": "3.6.6"
  }
 },
 "nbformat": 4,
 "nbformat_minor": 2
}
