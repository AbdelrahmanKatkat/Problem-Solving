{
 "cells": [
  {
   "cell_type": "markdown",
   "id": "4a1236a3",
   "metadata": {},
   "source": [
    "There is a game called \"I Wanna Be the Guy\", consisting of n levels. Little X and his friend Little Y are addicted to the game. Each of them wants to pass the whole game.\n",
    "\n",
    "Little X can pass only p levels of the game. And Little Y can pass only q levels of the game. You are given the indices of levels Little X can pass and the indices of levels Little Y can pass.\n",
    "\n",
    "## Target\n",
    "Will Little X and Little Y pass the whole game, if they cooperate each other?\n",
    "\n",
    "## Input\n",
    "- The first line contains a single integer n (1 ≤  n ≤ 100).\n",
    "\n",
    "- The next line contains an integer p (0 ≤ p ≤ n) at first, then follows p distinct integers a1, a2, ..., ap (1 ≤ ai ≤ n). \n",
    "\n",
    "These integers denote the indices of levels Little X can pass. \n",
    "- The next line contains the levels Little Y can pass in the same format. \n",
    "\n",
    "It's assumed that levels are numbered from 1 to n.\n",
    "\n",
    "## Output\n",
    "- If they can pass all the levels, print \"I become the guy.\". \n",
    "- If it's impossible, print \"Oh, my keyboard!\" (without the quotes).\n",
    "\n",
    "## Terminology\n",
    "- n: level in game\n",
    "- X: player1\n",
    "- Y: Player2\n",
    "- p: number of levels X can pass\n",
    "- a: levels index that x can pass\n",
    "- q: number of levels Y can pass\n",
    "- a: levels index that Y can pass\n",
    "- n_levels: level list"
   ]
  },
  {
   "cell_type": "markdown",
   "id": "ded71c75",
   "metadata": {},
   "source": [
    "## Idea\n",
    "- Create a list containing all levels\n",
    "- Compare element from X,Y players list to the level list \n",
    "- If counter produce same number as levels then bingo else fail"
   ]
  },
  {
   "cell_type": "markdown",
   "id": "05511a67",
   "metadata": {},
   "source": [
    "## Submitted"
   ]
  },
  {
   "cell_type": "code",
   "execution_count": 50,
   "id": "2e8e99c8",
   "metadata": {},
   "outputs": [
    {
     "name": "stdout",
     "output_type": "stream",
     "text": [
      "3\n",
      "1 2\n",
      "2 2 3\n",
      "I become the guy.\n"
     ]
    }
   ],
   "source": [
    "n=int(input())\n",
    "X=input()\n",
    "Y=input()\n",
    "\n",
    "## Creat a level list\n",
    "n_levels=range(1,n+1)\n",
    "\n",
    "## Each player list and drop first elemnt indicating number of levels\n",
    "X_list=X.split(\" \")\n",
    "del X_list[0]\n",
    "Y_list=Y.split(\" \")\n",
    "del Y_list[0]\n",
    "counter=0\n",
    "\n",
    "## Comparison\n",
    "for item in n_levels:\n",
    "    if str(item) in X_list or str(item) in Y_list:\n",
    "        counter=counter+1\n",
    "if counter==n:\n",
    "    print('I become the guy.')\n",
    "else:\n",
    "    print('Oh, my keyboard!')"
   ]
  },
  {
   "cell_type": "markdown",
   "id": "012dcbb2",
   "metadata": {},
   "source": [
    "## Trials"
   ]
  },
  {
   "cell_type": "code",
   "execution_count": 41,
   "id": "dafe69c5",
   "metadata": {},
   "outputs": [
    {
     "name": "stdout",
     "output_type": "stream",
     "text": [
      "4\n"
     ]
    }
   ],
   "source": [
    "n=int(input())"
   ]
  },
  {
   "cell_type": "code",
   "execution_count": 42,
   "id": "5ffd1b8d",
   "metadata": {},
   "outputs": [
    {
     "name": "stdout",
     "output_type": "stream",
     "text": [
      "3 1 2 3\n"
     ]
    }
   ],
   "source": [
    "X=input()"
   ]
  },
  {
   "cell_type": "code",
   "execution_count": 44,
   "id": "1c8d757f",
   "metadata": {},
   "outputs": [
    {
     "name": "stdout",
     "output_type": "stream",
     "text": [
      "2 2 3\n"
     ]
    }
   ],
   "source": [
    "Y=input()"
   ]
  },
  {
   "cell_type": "code",
   "execution_count": 45,
   "id": "8a38c420",
   "metadata": {},
   "outputs": [],
   "source": [
    "n_levels=range(1,n+1)"
   ]
  },
  {
   "cell_type": "code",
   "execution_count": 51,
   "id": "8a825953",
   "metadata": {},
   "outputs": [],
   "source": [
    "X_list=X.split(\" \")\n",
    "del X_list[0]\n",
    "Y_list=Y.split(\" \")\n",
    "del Y_list[0]"
   ]
  },
  {
   "cell_type": "code",
   "execution_count": 52,
   "id": "f8db7997",
   "metadata": {},
   "outputs": [],
   "source": [
    "counter=0\n",
    "for item in n_levels:\n",
    "    if str(item) in X_list or str(item) in Y_list:\n",
    "        counter=counter+1"
   ]
  },
  {
   "cell_type": "code",
   "execution_count": 53,
   "id": "62b4a0ef",
   "metadata": {},
   "outputs": [
    {
     "name": "stdout",
     "output_type": "stream",
     "text": [
      "Oh, my keyboard!\n"
     ]
    }
   ],
   "source": [
    "if counter==n:\n",
    "    print('I become the guy.')\n",
    "else:\n",
    "    print('Oh, my keyboard!')"
   ]
  },
  {
   "cell_type": "code",
   "execution_count": 22,
   "id": "7ea6e713",
   "metadata": {},
   "outputs": [],
   "source": []
  },
  {
   "cell_type": "code",
   "execution_count": 23,
   "id": "31ae9678",
   "metadata": {},
   "outputs": [],
   "source": []
  },
  {
   "cell_type": "code",
   "execution_count": null,
   "id": "1d669f11",
   "metadata": {},
   "outputs": [],
   "source": []
  }
 ],
 "metadata": {
  "kernelspec": {
   "display_name": "Python 3 (ipykernel)",
   "language": "python",
   "name": "python3"
  },
  "language_info": {
   "codemirror_mode": {
    "name": "ipython",
    "version": 3
   },
   "file_extension": ".py",
   "mimetype": "text/x-python",
   "name": "python",
   "nbconvert_exporter": "python",
   "pygments_lexer": "ipython3",
   "version": "3.9.7"
  }
 },
 "nbformat": 4,
 "nbformat_minor": 5
}
