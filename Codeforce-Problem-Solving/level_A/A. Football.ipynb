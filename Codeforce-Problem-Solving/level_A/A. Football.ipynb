{
 "cells": [
  {
   "cell_type": "markdown",
   "id": "4a77d9a7",
   "metadata": {},
   "source": [
    "One day Vasya decided to have a look at the results of Berland 1910 Football Championship’s finals. Unfortunately he didn't find the overall score of the match; however, he got hold of a profound description of the match's process.\n",
    "\n",
    "On the whole there are n lines in that description each of which described one goal. Every goal was marked with the name of the team that had scored it. Help Vasya, learn the name of the team that won the finals. \n",
    "\n",
    "### Constrain\n",
    "- It is guaranteed that the match did not end in a tie\n",
    "- The names are non-empty lines consisting of uppercase Latin letters whose lengths do not exceed 10 symbols\n",
    "-  It is guaranteed that the match did not end in a tie and the description contains no more than two different teams.\n",
    "\n",
    "### I/P \n",
    "- The first line contains an integer n (1 ≤ n ≤ 100) — the number of lines in the description.\n",
    "\n",
    "- Then follow n lines — for each goal the names of the teams that scored it. \n",
    "\n",
    "### O/P\n",
    "- Print the name of the winning team.\n",
    "\n",
    "### Terminology\n",
    "- n number of teams\n",
    "- N name of teams\n",
    "- team1 first team\n",
    "- team2 second team\n",
    "### Idea\n",
    "- counter number of times team1 or team2 appeared\n",
    "- Print the one who appeared the most"
   ]
  },
  {
   "cell_type": "markdown",
   "id": "d3b507fa",
   "metadata": {},
   "source": [
    "## submitted"
   ]
  },
  {
   "cell_type": "code",
   "execution_count": 22,
   "id": "f77d829c",
   "metadata": {},
   "outputs": [
    {
     "name": "stdout",
     "output_type": "stream",
     "text": [
      "5\n",
      "A\n",
      "ABA\n",
      "ABA\n",
      "A\n",
      "A\n",
      "A\n"
     ]
    }
   ],
   "source": [
    "n=int(input())\n",
    "i=0\n",
    "N_list=[]\n",
    "while i<n:\n",
    "    N=input()\n",
    "    N_list.append(N)\n",
    "    i=i+1\n",
    "N_list\n",
    "team1=N_list[0]\n",
    "i=0\n",
    "team2=''\n",
    "counter=0\n",
    "reverse_counter=0\n",
    "while i<n:\n",
    "    if N_list[i]==team1:\n",
    "        counter=counter+1\n",
    "    else:\n",
    "        team2=N_list[i]\n",
    "        reverse_counter=reverse_counter+1\n",
    "    i=i+1\n",
    "if counter>reverse_counter:\n",
    "    print(team1)\n",
    "else:\n",
    "    print(team2)"
   ]
  },
  {
   "cell_type": "code",
   "execution_count": null,
   "id": "9cc4aedc",
   "metadata": {},
   "outputs": [],
   "source": []
  },
  {
   "cell_type": "markdown",
   "id": "3b16180e",
   "metadata": {},
   "source": [
    "## Trials"
   ]
  },
  {
   "cell_type": "code",
   "execution_count": 4,
   "id": "5841dfa7",
   "metadata": {},
   "outputs": [
    {
     "name": "stdout",
     "output_type": "stream",
     "text": [
      "5\n"
     ]
    }
   ],
   "source": [
    "n=int(input())"
   ]
  },
  {
   "cell_type": "code",
   "execution_count": 5,
   "id": "f22a109f",
   "metadata": {},
   "outputs": [
    {
     "name": "stdout",
     "output_type": "stream",
     "text": [
      "A\n",
      "ABA\n",
      "ABA\n",
      "A\n",
      "A\n"
     ]
    }
   ],
   "source": [
    "i=0\n",
    "N_list=[]\n",
    "while i<n:\n",
    "    N=input()\n",
    "    N_list.append(N)\n",
    "    i=i+1"
   ]
  },
  {
   "cell_type": "code",
   "execution_count": 9,
   "id": "b193e5dd",
   "metadata": {},
   "outputs": [],
   "source": [
    "N_list\n",
    "team1=N_list[0]"
   ]
  },
  {
   "cell_type": "code",
   "execution_count": 18,
   "id": "510585b1",
   "metadata": {},
   "outputs": [],
   "source": [
    "i=0\n",
    "team2=''\n",
    "counter=0\n",
    "reverse_counter=0\n",
    "while i<n:\n",
    "    if N_list[i]==team1:\n",
    "        counter=counter+1\n",
    "    else:\n",
    "        team2=N_list[i]\n",
    "        reverse_counter=reverse_counter+1\n",
    "    i=i+1\n"
   ]
  },
  {
   "cell_type": "code",
   "execution_count": 20,
   "id": "62142966",
   "metadata": {},
   "outputs": [
    {
     "name": "stdout",
     "output_type": "stream",
     "text": [
      "A\n"
     ]
    }
   ],
   "source": [
    "if counter>reverse_counter:\n",
    "    print(team1)\n",
    "else:\n",
    "    print(team2)"
   ]
  },
  {
   "cell_type": "code",
   "execution_count": null,
   "id": "465b6682",
   "metadata": {},
   "outputs": [],
   "source": []
  }
 ],
 "metadata": {
  "kernelspec": {
   "display_name": "Python 3 (ipykernel)",
   "language": "python",
   "name": "python3"
  },
  "language_info": {
   "codemirror_mode": {
    "name": "ipython",
    "version": 3
   },
   "file_extension": ".py",
   "mimetype": "text/x-python",
   "name": "python",
   "nbconvert_exporter": "python",
   "pygments_lexer": "ipython3",
   "version": "3.9.7"
  }
 },
 "nbformat": 4,
 "nbformat_minor": 5
}
