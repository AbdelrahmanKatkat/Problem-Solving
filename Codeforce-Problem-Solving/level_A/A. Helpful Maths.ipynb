{
 "cells": [
  {
   "cell_type": "markdown",
   "id": "0fbb2732",
   "metadata": {},
   "source": [
    "Xenia the beginner mathematician is a third year student at elementary school. She is now learning the addition operation.\n",
    "\n",
    "The teacher has written down the sum of multiple numbers. Pupils should calculate the sum. To make the calculation easier, the sum only contains numbers 1, 2 and 3. Still, that isn't enough for Xenia. She is only beginning to count, so she can calculate a sum only if the summands follow in non-decreasing order. For example, she can't calculate sum 1+3+2+1 but she can calculate sums 1+1+2 and 3+3.\n",
    "\n",
    "You've got the sum that was written on the board. Rearrange the summans and print the sum in such a way that Xenia can calculate the sum.\n",
    "\n",
    "## Input\n",
    "The first line contains a non-empty string s — the sum Xenia needs to count. String s contains no spaces. It only contains digits and characters \"+\". Besides, string s is a correct sum of numbers 1, 2 and 3. String s is at most 100 characters long.\n",
    "\n",
    "## Output\n",
    "Print the new sum that Xenia can count."
   ]
  },
  {
   "cell_type": "markdown",
   "id": "25f0129f",
   "metadata": {},
   "source": [
    "## Terminology\n",
    "- s : the sum Xenia needs to count.\n",
    "- Unsorted_Sorted_list: Temperory list to order our list \n",
    "- s_sorted: Our target\n"
   ]
  },
  {
   "cell_type": "markdown",
   "id": "a73c31b2",
   "metadata": {},
   "source": [
    "## Idea\n",
    "- Turn str formula into list\n",
    "- Order the list\n",
    "- Add + to the list\n",
    "- Turn ordered list into joined str"
   ]
  },
  {
   "cell_type": "code",
   "execution_count": 52,
   "id": "f294e5c7",
   "metadata": {},
   "outputs": [
    {
     "name": "stdout",
     "output_type": "stream",
     "text": [
      "1+1+3+1+3\n"
     ]
    }
   ],
   "source": [
    "s=input()"
   ]
  },
  {
   "cell_type": "code",
   "execution_count": 53,
   "id": "564d5d89",
   "metadata": {},
   "outputs": [],
   "source": [
    "n=len(s.replace('+',''))"
   ]
  },
  {
   "cell_type": "code",
   "execution_count": 54,
   "id": "b9c87f83",
   "metadata": {},
   "outputs": [],
   "source": [
    "i=0\n",
    "Unsorted_Sorted_list=[]\n",
    "while i<n:\n",
    "    Unsorted_Sorted_list.append(int(s.replace('+','')[i]))\n",
    "    i=i+1"
   ]
  },
  {
   "cell_type": "code",
   "execution_count": 64,
   "id": "2b4034ce",
   "metadata": {},
   "outputs": [],
   "source": [
    "i=0\n",
    "y=0\n",
    "n=len(s)\n",
    "s_sorted=[]\n",
    "while i<n:\n",
    "    if i%2==0:\n",
    "        s_sorted.append(Unsorted_Sorted_list[y])\n",
    "        y=y+1\n",
    "    else:\n",
    "        s_sorted.append('+')\n",
    "    i=i+1"
   ]
  },
  {
   "cell_type": "code",
   "execution_count": 65,
   "id": "28aeb8f0",
   "metadata": {},
   "outputs": [
    {
     "data": {
      "text/plain": [
       "[1, '+', 2, '+', 3]"
      ]
     },
     "execution_count": 65,
     "metadata": {},
     "output_type": "execute_result"
    }
   ],
   "source": [
    "s_sorted"
   ]
  },
  {
   "cell_type": "code",
   "execution_count": 60,
   "id": "fddcf668",
   "metadata": {},
   "outputs": [],
   "source": [
    "def Join(list):\n",
    "    Joined_str=''\n",
    "    for i in range(0,len(list)):\n",
    "        Joined_str=str(Joined_str)+str(list[i])\n",
    "    return Joined_str"
   ]
  },
  {
   "cell_type": "code",
   "execution_count": 66,
   "id": "34a59410",
   "metadata": {},
   "outputs": [
    {
     "data": {
      "text/plain": [
       "'1+2+3'"
      ]
     },
     "execution_count": 66,
     "metadata": {},
     "output_type": "execute_result"
    }
   ],
   "source": [
    "Join(s_sorted)"
   ]
  },
  {
   "cell_type": "markdown",
   "id": "83902216",
   "metadata": {},
   "source": [
    "## Submitted"
   ]
  },
  {
   "cell_type": "code",
   "execution_count": 63,
   "id": "cd7b2b91",
   "metadata": {},
   "outputs": [
    {
     "name": "stdout",
     "output_type": "stream",
     "text": [
      "3+2+1\n",
      "1+2+3\n"
     ]
    }
   ],
   "source": [
    "## Function to turn list into joined str    \n",
    "def Join(list):\n",
    "    Joined_str=''\n",
    "    for i in range(0,len(list)):\n",
    "        Joined_str=str(Joined_str)+str(list[i])\n",
    "    return Joined_str\n",
    "s=input()\n",
    "n=len(s.replace('+',''))\n",
    "## Turn into sorted list with no +\n",
    "i=0\n",
    "Unsorted_Sorted_list=[]\n",
    "while i<n:\n",
    "    Unsorted_Sorted_list.append(int(s.replace('+','')[i]))\n",
    "    i=i+1\n",
    "Unsorted_Sorted_list.sort()\n",
    "## Add + to sorted list\n",
    "i=0 ## Counter for s_sorted list\n",
    "y=0 ## counter for the Unsorted_Sorted_list list\n",
    "n=len(s)\n",
    "s_sorted=[]\n",
    "while i<n:\n",
    "    if i%2==0:\n",
    "        s_sorted.append(Unsorted_Sorted_list[y])\n",
    "        y=y+1\n",
    "    else:\n",
    "        s_sorted.append('+')\n",
    "    i=i+1\n",
    "\n",
    "## O/P\n",
    "print(Join(s_sorted))"
   ]
  },
  {
   "cell_type": "code",
   "execution_count": null,
   "id": "f19d2d51",
   "metadata": {},
   "outputs": [],
   "source": []
  },
  {
   "cell_type": "code",
   "execution_count": null,
   "id": "976ccfb8",
   "metadata": {},
   "outputs": [],
   "source": []
  }
 ],
 "metadata": {
  "kernelspec": {
   "display_name": "Python 3 (ipykernel)",
   "language": "python",
   "name": "python3"
  },
  "language_info": {
   "codemirror_mode": {
    "name": "ipython",
    "version": 3
   },
   "file_extension": ".py",
   "mimetype": "text/x-python",
   "name": "python",
   "nbconvert_exporter": "python",
   "pygments_lexer": "ipython3",
   "version": "3.9.7"
  }
 },
 "nbformat": 4,
 "nbformat_minor": 5
}
