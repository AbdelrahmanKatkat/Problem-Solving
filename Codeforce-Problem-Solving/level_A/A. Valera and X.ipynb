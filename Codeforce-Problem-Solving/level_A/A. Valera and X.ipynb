{
 "cells": [
  {
   "cell_type": "markdown",
   "metadata": {},
   "source": [
    "Valera is a little boy. Yesterday he got a huge Math hometask at school, so Valera didn't have enough time to properly learn the English alphabet for his English lesson. Unfortunately, the English teacher decided to have a test on alphabet today. At the test Valera got a square piece of squared paper. The length of the side equals n squares (n is an odd number) and each unit square contains some small letter of the English alphabet.\n",
    "\n",
    "### Target\n",
    "Valera needs to know if the letters written on the square piece of paper form letter \"X\".\n",
    "Help Valera, write the program that completes the described task for him.\n",
    "\n",
    "### Constraint \n",
    "Valera's teacher thinks that the letters on the piece of paper form an \"X\", if:\n",
    "\n",
    "- On both diagonals of the square paper all letters are the same\n",
    "- All other squares of the paper (they are not on the diagonals) contain the same letter that is different from the letters on the diagonals.\n",
    "\n",
    "\n",
    "### Input\n",
    "- The first line contains integer n (3 ≤ n < 300; n is odd). Each of the next n lines contains n small English letters — the description of Valera's paper.\n",
    "\n",
    "### Output\n",
    "- Print string \"YES\", if the letters on the paper form letter \"X\". Otherwise, print string \"NO\". Print the strings without quotes."
   ]
  },
  {
   "cell_type": "markdown",
   "metadata": {},
   "source": [
    "### Terminology\n",
    "- cond1 condition that there is more than two elements\n",
    "- cond2 condition that the x is not distributed equally\n",
    "- n number of rows and columns\n",
    "- letters is the input letters\n",
    "\n",
    "### Idea\n",
    "- Check for condition 1\n",
    "    - Compare all element to the 2 unique elements\n",
    "    - Compare all number of element to expected number of elemnt of x\n",
    "- Check for condition 2 \n",
    "    - Compare x shape \n",
    "    - 0  n  n  n -1\n",
    "    - n  1  n -1  n\n",
    "    - n  n  2  n  n\n",
    "    - n  1  n -1  n\n",
    "    - 0  n  n  n -1\n",
    "- If both condition is not NO, print YES"
   ]
  },
  {
   "cell_type": "markdown",
   "metadata": {},
   "source": [
    "### Submitted"
   ]
  },
  {
   "cell_type": "code",
   "execution_count": 87,
   "metadata": {},
   "outputs": [
    {
     "name": "stdout",
     "output_type": "stream",
     "text": [
      "3\n",
      "aax\n",
      "xax\n",
      "aax\n",
      "NO\n"
     ]
    }
   ],
   "source": [
    "n=int(input())\n",
    "i=0\n",
    "letters=[]\n",
    "cond1=''\n",
    "cond2=''\n",
    "\n",
    "## Check Unique element\n",
    "\n",
    "while i<n:\n",
    "    temp=input()\n",
    "    letters.append(temp)\n",
    "    i=i+1\n",
    "unique1=letters[0][0]\n",
    "unique2=letters[0][1]\n",
    "if unique1==unique2:\n",
    "    cond1='NO'\n",
    "i=0\n",
    "u1_c=0\n",
    "while i<n:\n",
    "    c=0\n",
    "    while c<n:\n",
    "        if letters[i][c]==unique1:\n",
    "            u1_c=u1_c+1\n",
    "        if letters[i][c]!=unique1 and letters[i][c]!=unique2:\n",
    "            cond1='NO'\n",
    "            break\n",
    "        c=c+1\n",
    "    i=i+1\n",
    "if u1_c!=n*2-1:\n",
    "    cond1='NO'\n",
    "    \n",
    "    \n",
    "## Check if x is distributed equally\n",
    "\n",
    "mid_elem=int((n-1)/2)\n",
    "i=0\n",
    "x=0\n",
    "y=-1\n",
    "cond2=''\n",
    "while i<n:\n",
    "\n",
    "    ## Before mid\n",
    "    if (letters[i][x]==unique1 and letters[i][y]==unique1) and i<mid_elem:\n",
    "        x=x+1\n",
    "        y=y-1\n",
    "    elif (letters[i][x]!= unique1 or letters[i][y]!=unique1) and i<mid_elem:\n",
    "        cond2='NO'\n",
    "        break\n",
    "        \n",
    "        \n",
    "    ## At mid\n",
    "    if letters[i][mid_elem]!=unique1 and i==mid_elem:\n",
    "        cond2='NO'\n",
    "        break\n",
    "    elif letters[i][mid_elem]==unique1 and i==mid_elem:\n",
    "        x=x-1\n",
    "        y=y+1\n",
    " \n",
    "        \n",
    "    ## After mid   \n",
    "    if (letters[i][x]==unique1 and letters[i][y]==unique1) and i>mid_elem:\n",
    "\n",
    "        x=x-1\n",
    "        y=y+1\n",
    "        \n",
    "    elif (letters[i][x]!= unique1 or letters[i][y]!=unique1) and i>mid_elem:\n",
    "        \n",
    "        cond2='NO'\n",
    "        break\n",
    "\n",
    "    i=i+1\n",
    "if cond1 or cond2 =='NO':\n",
    "    print('NO')\n",
    "else:\n",
    "    print('YES')"
   ]
  },
  {
   "cell_type": "markdown",
   "metadata": {},
   "source": [
    "### Trials"
   ]
  },
  {
   "cell_type": "code",
   "execution_count": 122,
   "metadata": {},
   "outputs": [
    {
     "name": "stdout",
     "output_type": "stream",
     "text": [
      "3\n"
     ]
    }
   ],
   "source": [
    "n=int(input())"
   ]
  },
  {
   "cell_type": "code",
   "execution_count": 123,
   "metadata": {},
   "outputs": [
    {
     "name": "stdout",
     "output_type": "stream",
     "text": [
      "axa\n",
      "aax\n",
      "xxa\n"
     ]
    }
   ],
   "source": [
    "i=0\n",
    "letters=[]\n",
    "cond1=''\n",
    "cond2=''\n",
    "while i<n:\n",
    "    temp=input()\n",
    "    letters.append(temp)\n",
    "    i=i+1"
   ]
  },
  {
   "cell_type": "code",
   "execution_count": 124,
   "metadata": {},
   "outputs": [],
   "source": [
    "unique1=letters[0][0]\n",
    "unique2=letters[0][1]\n",
    "if unique1==unique2:\n",
    "    cond1='NO'"
   ]
  },
  {
   "cell_type": "code",
   "execution_count": 115,
   "metadata": {},
   "outputs": [],
   "source": [
    "i=0\n",
    "u1_c=0\n",
    "while i<n:\n",
    "    c=0\n",
    "    while c<n:\n",
    "        if letters[i][c]==unique1:\n",
    "            u1_c=u1_c+1\n",
    "        if letters[i][c]!=unique1 and letters[i][c]!=unique2:\n",
    "            cond1='NO'\n",
    "            break\n",
    "        c=c+1\n",
    "    i=i+1\n",
    "if u1_c!=n*2-1:\n",
    "    print(i)\n",
    "    cond1='NO'\n",
    "    "
   ]
  },
  {
   "cell_type": "code",
   "execution_count": 12,
   "metadata": {},
   "outputs": [],
   "source": [
    "mid_elem=int((n-1)/2)\n",
    "i=0\n",
    "x=0\n",
    "y=-1\n",
    "cond2=''\n",
    "while i<n:\n",
    "\n",
    "    \n",
    "    ## Before mid\n",
    "    if (letters[i][x]==unique1 and letters[i][y]==unique1) and i<mid_elem:\n",
    "        x=x+1\n",
    "        y=y-1\n",
    "    elif (letters[i][x]!= unique1 or letters[i][y]!=unique1) and i<mid_elem:\n",
    "        cond2='NO'\n",
    "        break\n",
    "        \n",
    "    ## At mid\n",
    "    if letters[i][mid_elem]!=unique1 and i==mid_elem:\n",
    "        cond2='NO'\n",
    "        break\n",
    "    elif letters[i][mid_elem]==unique1 and i==mid_elem:\n",
    "        x=x-1\n",
    "        y=y+1\n",
    " \n",
    "        \n",
    "        \n",
    "    ## After mid   \n",
    "    if (letters[i][x]==unique1 and letters[i][y]==unique1) and i>mid_elem:\n",
    "\n",
    "        x=x-1\n",
    "        y=y+1\n",
    "        \n",
    "    elif (letters[i][x]!= unique1 or letters[i][y]!=unique1) and i>mid_elem:\n",
    "        \n",
    "        cond2='NO'\n",
    "        break\n",
    "\n",
    "    i=i+1"
   ]
  },
  {
   "cell_type": "code",
   "execution_count": 13,
   "metadata": {},
   "outputs": [
    {
     "data": {
      "text/plain": [
       "''"
      ]
     },
     "execution_count": 13,
     "metadata": {},
     "output_type": "execute_result"
    }
   ],
   "source": [
    "cond2"
   ]
  },
  {
   "cell_type": "code",
   "execution_count": 146,
   "metadata": {},
   "outputs": [
    {
     "name": "stdout",
     "output_type": "stream",
     "text": [
      "YES\n"
     ]
    }
   ],
   "source": [
    "if cond1 or cond2 =='NO':\n",
    "    print('NO')\n",
    "else:\n",
    "    print('YES')"
   ]
  },
  {
   "cell_type": "code",
   "execution_count": null,
   "metadata": {},
   "outputs": [],
   "source": []
  },
  {
   "cell_type": "code",
   "execution_count": null,
   "metadata": {},
   "outputs": [],
   "source": []
  }
 ],
 "metadata": {
  "kernelspec": {
   "display_name": "Python 3 (ipykernel)",
   "language": "python",
   "name": "python3"
  },
  "language_info": {
   "codemirror_mode": {
    "name": "ipython",
    "version": 3
   },
   "file_extension": ".py",
   "mimetype": "text/x-python",
   "name": "python",
   "nbconvert_exporter": "python",
   "pygments_lexer": "ipython3",
   "version": "3.9.7"
  }
 },
 "nbformat": 4,
 "nbformat_minor": 2
}
