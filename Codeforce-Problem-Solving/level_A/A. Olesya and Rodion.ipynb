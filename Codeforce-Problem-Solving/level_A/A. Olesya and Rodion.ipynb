{
 "cells": [
  {
   "cell_type": "markdown",
   "metadata": {},
   "source": [
    "Olesya loves numbers consisting of n digits, and Rodion only likes numbers that are divisible by t. Find some number that satisfies both of them.\n",
    "\n",
    "### Target\n",
    "Your task is: given the n and t print an integer strictly larger than zero consisting of n digits that is divisible by t. If such number doesn't exist, print  - 1.\n",
    "\n",
    "### Input\n",
    "The single line contains two numbers, n and t (1 ≤ n ≤ 100, 2 ≤ t ≤ 10) — the length of the number and the number it should be divisible by.\n",
    "\n",
    "### Output\n",
    "Print one such positive number without leading zeroes, — the answer to the problem, or  - 1, if such number doesn't exist. If there are multiple possible answers, you are allowed to print any of them.\n",
    "\n",
    "### Terminology\n",
    "n: number of digit\n",
    "t: Dividable number\n",
    "\n",
    "### Idea\n",
    "- Make a number consist of 1 it's length is n then multiply it by t\n",
    "    - It will be dividable by t always\n",
    "- We have two corner cases:\n",
    "    - When n=1 that means if t=10 it will not be possible\n",
    "    - When t=10 that means we will increase order of number increase, so we remove an order "
   ]
  },
  {
   "cell_type": "markdown",
   "metadata": {},
   "source": [
    "## Submitted"
   ]
  },
  {
   "cell_type": "code",
   "execution_count": 42,
   "metadata": {},
   "outputs": [
    {
     "name": "stdout",
     "output_type": "stream",
     "text": [
      "1 5\n",
      "5\n"
     ]
    }
   ],
   "source": [
    "n_t=input()\n",
    "n_t_list=n_t.split(' ')\n",
    "n=int(n_t_list[0])\n",
    "t=int(n_t_list[1])\n",
    "i=0\n",
    "multiplier=''\n",
    "if t==10:\n",
    "    i=1\n",
    "while i<n:\n",
    "    multiplier=multiplier+str(1)\n",
    "    i=i+1\n",
    "if n==1 and t==10:\n",
    "    print(-1)\n",
    "else:\n",
    "    print(t*int(multiplier))    "
   ]
  },
  {
   "cell_type": "markdown",
   "metadata": {},
   "source": [
    "## Trials"
   ]
  },
  {
   "cell_type": "code",
   "execution_count": 23,
   "metadata": {},
   "outputs": [],
   "source": [
    "n_t=input()\n",
    "n_t_list=n_t.split(' ')\n",
    "n=int(n_t_list[0])\n",
    "t=int(n_t_list[1])"
   ]
  },
  {
   "cell_type": "code",
   "execution_count": 38,
   "metadata": {},
   "outputs": [],
   "source": [
    "i=0\n",
    "multiplier=''\n",
    "if t==10:\n",
    "    i=1\n",
    "while i<n:\n",
    "    multiplier=multiplier+str(1)\n",
    "    i=i+1"
   ]
  },
  {
   "cell_type": "code",
   "execution_count": 40,
   "metadata": {},
   "outputs": [
    {
     "name": "stdout",
     "output_type": "stream",
     "text": [
      "11111111111111111111111110\n"
     ]
    }
   ],
   "source": [
    "if n==1:\n",
    "    print(-1)\n",
    "else:\n",
    "    print(t*int(multiplier))"
   ]
  }
 ],
 "metadata": {
  "kernelspec": {
   "display_name": "Python 3 (ipykernel)",
   "language": "python",
   "name": "python3"
  },
  "language_info": {
   "codemirror_mode": {
    "name": "ipython",
    "version": 3
   },
   "file_extension": ".py",
   "mimetype": "text/x-python",
   "name": "python",
   "nbconvert_exporter": "python",
   "pygments_lexer": "ipython3",
   "version": "3.9.7"
  }
 },
 "nbformat": 4,
 "nbformat_minor": 2
}
