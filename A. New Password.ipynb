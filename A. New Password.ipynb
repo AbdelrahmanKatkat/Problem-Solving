{
 "cells": [
  {
   "cell_type": "markdown",
   "id": "24124505",
   "metadata": {},
   "source": [
    "Innokentiy decides to change the password in the social net \"Contact!\", but he is too lazy to invent a new password by himself. That is why he needs your help.\n",
    "\n",
    "Innokentiy decides that new password should satisfy the following conditions:\n",
    "\n",
    " - the length of the password must be equal to n,\n",
    " - the password should consist only of lowercase Latin letters,\n",
    " - the number of distinct symbols in the password must be equal to k,\n",
    " - any two consecutive symbols in the password must be distinct.\n",
    "Your task is to help Innokentiy and to invent a new password which will satisfy all given conditions.\n",
    "\n",
    "## Input\n",
    "The first line contains two positive integers n and k (2 ≤ n ≤ 100, 2 ≤ k ≤ min(n, 26)) — the length of the password and the number of distinct symbols in it.\n",
    "\n",
    "Pay attention that a desired new password always exists.\n",
    "\n",
    "## Output\n",
    "Print any password which satisfies all conditions given by Innokentiy."
   ]
  },
  {
   "cell_type": "markdown",
   "id": "99fc0fd5",
   "metadata": {},
   "source": [
    "## Terminology\n",
    "   - n the length  of the password\n",
    "   - k the number of distinct symbols in it"
   ]
  },
  {
   "cell_type": "markdown",
   "id": "c007930c",
   "metadata": {},
   "source": [
    "## Submitted"
   ]
  },
  {
   "cell_type": "code",
   "execution_count": 4,
   "id": "352fe337",
   "metadata": {},
   "outputs": [
    {
     "name": "stdout",
     "output_type": "stream",
     "text": [
      "4 3\n",
      "abca\n"
     ]
    }
   ],
   "source": [
    "I_P=input()\n",
    "n=int(I_P.split(\" \")[0])\n",
    "k=int(I_P.split(\" \")[1])\n",
    "## Function to join password letters after making it\n",
    "def Join(list):\n",
    "    Joined_str=''\n",
    "    for i in range(0,len(list)):\n",
    "        Joined_str=str(Joined_str)+list[i]\n",
    "    return Joined_str\n",
    "Ascii=range(97,123)\n",
    "\n",
    "def password(n,k):\n",
    "    global Ascii ## We need to declare Ascii variable agian\n",
    "    Ascii=Ascii[:k]\n",
    "    passw=[]\n",
    "    y=0 ## y is number in Ascii\n",
    "    i=0\n",
    "    while i< n:\n",
    "        if y==k:\n",
    "            y=0 ## To Start Again After reaching number\n",
    "            i=i-1 ## To Continue the cycle \n",
    "        elif y<k:\n",
    "            passw.append(chr(Ascii[y])) ## Here we make array to store Symbols\n",
    "            y=y+1\n",
    "        i=i+1\n",
    "    return Join(passw) ## Here we join all passw data\n",
    "print(password(n,k))"
   ]
  },
  {
   "cell_type": "code",
   "execution_count": null,
   "id": "9358a336",
   "metadata": {},
   "outputs": [],
   "source": []
  }
 ],
 "metadata": {
  "kernelspec": {
   "display_name": "Python 3 (ipykernel)",
   "language": "python",
   "name": "python3"
  },
  "language_info": {
   "codemirror_mode": {
    "name": "ipython",
    "version": 3
   },
   "file_extension": ".py",
   "mimetype": "text/x-python",
   "name": "python",
   "nbconvert_exporter": "python",
   "pygments_lexer": "ipython3",
   "version": "3.9.7"
  }
 },
 "nbformat": 4,
 "nbformat_minor": 5
}
