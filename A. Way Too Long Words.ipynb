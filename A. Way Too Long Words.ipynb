{
 "cells": [
  {
   "cell_type": "markdown",
   "id": "ad8263d2",
   "metadata": {},
   "source": [
    "Sometimes some words like \"localization\" or \"internationalization\" are so long that writing them many times in one text is quite tiresome.\n",
    "\n",
    "Let's consider a word too long, if its length is strictly more than 10 characters. All too long words should be replaced with a special abbreviation.\n",
    "\n",
    "This abbreviation is made like this: we write down the first and the last letter of a word and between them we write the number of letters between the first and the last letters. That number is in decimal system and doesn't contain any leading zeroes.\n",
    "\n",
    "Thus, \"localization\" will be spelt as \"l10n\", and \"internationalization» will be spelt as \"i18n\".\n",
    "\n",
    "You are suggested to automatize the process of changing the words with abbreviations. At that all too long words should be replaced by the abbreviation and the words that are not too long should not undergo any changes.\n",
    "\n",
    "## Input\n",
    "The first line contains an integer n (1 ≤ n ≤ 100). Each of the following n lines contains one word. All the words consist of lowercase Latin letters and possess the lengths of from 1 to 100 characters.\n",
    "\n",
    "## Output\n",
    "Print n lines. The i-th line should contain the result of replacing of the i-th word from the input data."
   ]
  },
  {
   "cell_type": "code",
   "execution_count": 130,
   "id": "5b7a724b",
   "metadata": {},
   "outputs": [
    {
     "name": "stdout",
     "output_type": "stream",
     "text": [
      "4\n",
      "Word\n",
      "erererere\n",
      "klklklk\n",
      "iiiiiiillllllll\n",
      "Word\n",
      "erererere\n",
      "klklklk\n",
      "i13l\n"
     ]
    }
   ],
   "source": [
    "n=int(input())\n",
    "y=0\n",
    "Word_mod=[]\n",
    "while y<n:\n",
    "    Word=input()\n",
    "    y=y+1\n",
    "    Word=Word.replace('\"',\"\")\n",
    "    Word_mod.append(Word)\n",
    "x=0\n",
    "while x<n:\n",
    "    if len(Word_mod[x])<10:\n",
    "        print(Word_mod[x])\n",
    "    else:\n",
    "        length=len(Word_mod[x])\n",
    "        X=length-2\n",
    "        print(Word_mod[x][0]+str(X)+Word_mod[x][length-1])\n",
    "    x=x+1"
   ]
  },
  {
   "cell_type": "markdown",
   "id": "81ba9a12",
   "metadata": {},
   "source": [
    "## Idea"
   ]
  },
  {
   "cell_type": "markdown",
   "id": "cdd6a7be",
   "metadata": {},
   "source": [
    "The main idea here is that i used replace function to remove non necessory parts of the word\n",
    "Then, I made a container called Word_mod to store variabels, as code force didn't accept entering all words in the same time, which ment that I have to store what he enters, so I can use it later\n"
   ]
  },
  {
   "cell_type": "markdown",
   "id": "eb9b4ea3",
   "metadata": {},
   "source": [
    "## New Function "
   ]
  },
  {
   "cell_type": "markdown",
   "id": "3ca769a3",
   "metadata": {},
   "source": [
    "Object.replace(\"old\",\"new\")"
   ]
  },
  {
   "cell_type": "code",
   "execution_count": null,
   "id": "2467fa9a",
   "metadata": {},
   "outputs": [],
   "source": []
  }
 ],
 "metadata": {
  "kernelspec": {
   "display_name": "Python 3",
   "language": "python",
   "name": "python3"
  },
  "language_info": {
   "codemirror_mode": {
    "name": "ipython",
    "version": 3
   },
   "file_extension": ".py",
   "mimetype": "text/x-python",
   "name": "python",
   "nbconvert_exporter": "python",
   "pygments_lexer": "ipython3",
   "version": "3.8.8"
  }
 },
 "nbformat": 4,
 "nbformat_minor": 5
}
