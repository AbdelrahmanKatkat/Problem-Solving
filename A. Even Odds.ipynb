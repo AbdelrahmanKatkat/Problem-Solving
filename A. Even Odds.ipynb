{
 "cells": [
  {
   "cell_type": "markdown",
   "id": "86ff12a9",
   "metadata": {},
   "source": [
    "Being a nonconformist, Volodya is displeased with the current state of things, particularly with the order of natural numbers (natural number is positive integer number). He is determined to rearrange them. But there are too many natural numbers, so Volodya decided to start with the first n. \n",
    "\n",
    "\n",
    "## Constrain\n",
    "\n",
    "- Firstly all odd integers from 1 to n (in ascending order)\n",
    "\n",
    "- Then all even integers from 1 to n (also in ascending order).\n",
    "\n",
    "## Target\n",
    "Help our hero to find out which number will stand at the position number k.\n",
    "\n",
    "## Input\n",
    "- The only line of input contains integers n and k (1 ≤ k ≤ n ≤ 1012).\n",
    "\n",
    "## Output\n",
    "- Print the number that will stand at the position number k after Volodya's manipulations.\n",
    "\n",
    "\n",
    "## Note\n",
    "Please, do not use the %lld specifier to read or write 64-bit integers in C++. It is preferred to use the cin, cout streams or the %I64d specifier.\n",
    "\n",
    "## Terminology\n",
    "- n All numbers\n",
    "- k The index of the number that we want (1,n+1)\n",
    "- s Required sequence\n",
    "\n",
    "## Idea\n",
    "- Make two list for even & Odd\n",
    "- combine both list in bigger list\n",
    "- get required number "
   ]
  },
  {
   "cell_type": "markdown",
   "id": "a7624330",
   "metadata": {},
   "source": [
    "## Submitted"
   ]
  },
  {
   "cell_type": "code",
   "execution_count": 20,
   "id": "b52be06c",
   "metadata": {},
   "outputs": [
    {
     "name": "stdout",
     "output_type": "stream",
     "text": [
      "8 5\n",
      "2\n"
     ]
    }
   ],
   "source": [
    "n_k=input()\n",
    "n_k=n_k.split(' ')\n",
    "n=int(n_k[0])\n",
    "k=int(n_k[1])\n",
    "\n",
    "## Make odd, even lists\n",
    "\n",
    "if n%2==0:\n",
    "    Thresh=int(n/2)\n",
    "elif n%2==1:\n",
    "    Thresh=int((n+1)/2)\n",
    "\n",
    "\n",
    "\n",
    "\n",
    "## Make combined list\n",
    "if k>Thresh:\n",
    "    k=abs(k-Thresh)\n",
    "    even_list=range(2,n+1,2)\n",
    "    print(even_list[k-1])\n",
    "elif k<=Thresh: ## We put = here as in case k=n/2 4 half will be odd\n",
    "    odd_list=range(1,n+1,2)\n",
    "    print(odd_list[k-1])"
   ]
  },
  {
   "cell_type": "markdown",
   "id": "2da58a19",
   "metadata": {},
   "source": [
    "## Trials"
   ]
  },
  {
   "cell_type": "code",
   "execution_count": 106,
   "id": "e192389d",
   "metadata": {},
   "outputs": [
    {
     "name": "stdout",
     "output_type": "stream",
     "text": [
      "8 4\n"
     ]
    }
   ],
   "source": [
    "n_k=input()"
   ]
  },
  {
   "cell_type": "code",
   "execution_count": 107,
   "id": "fa77a677",
   "metadata": {},
   "outputs": [],
   "source": [
    "n_k=n_k.split(' ')"
   ]
  },
  {
   "cell_type": "code",
   "execution_count": 108,
   "id": "dfab4309",
   "metadata": {},
   "outputs": [],
   "source": [
    "n=int(n_k[0])\n",
    "k=int(n_k[1])"
   ]
  },
  {
   "cell_type": "code",
   "execution_count": 109,
   "id": "bf6057c1",
   "metadata": {},
   "outputs": [],
   "source": [
    "even_list=range(2,n+1,2)"
   ]
  },
  {
   "cell_type": "code",
   "execution_count": 110,
   "id": "89fa12b6",
   "metadata": {},
   "outputs": [],
   "source": [
    "odd_list=range(1,n+1,2)"
   ]
  },
  {
   "cell_type": "code",
   "execution_count": 113,
   "id": "46182cce",
   "metadata": {},
   "outputs": [
    {
     "name": "stdout",
     "output_type": "stream",
     "text": [
      "7\n"
     ]
    }
   ],
   "source": [
    "if k>len(odd_list):\n",
    "    k=abs(k-len(odd_list))\n",
    "    print(even_list[k-1])\n",
    "elif k<=len(odd_list):\n",
    "    print(odd_list[k-1])"
   ]
  },
  {
   "cell_type": "code",
   "execution_count": 92,
   "id": "b589841f",
   "metadata": {},
   "outputs": [
    {
     "data": {
      "text/plain": [
       "6"
      ]
     },
     "execution_count": 92,
     "metadata": {},
     "output_type": "execute_result"
    }
   ],
   "source": [
    "even_list[2]"
   ]
  },
  {
   "cell_type": "code",
   "execution_count": null,
   "id": "ecf06a53",
   "metadata": {},
   "outputs": [],
   "source": []
  },
  {
   "cell_type": "code",
   "execution_count": null,
   "id": "3e497fbc",
   "metadata": {},
   "outputs": [],
   "source": []
  },
  {
   "cell_type": "code",
   "execution_count": null,
   "id": "e04a6520",
   "metadata": {},
   "outputs": [],
   "source": []
  },
  {
   "cell_type": "code",
   "execution_count": null,
   "id": "0c7a4630",
   "metadata": {},
   "outputs": [],
   "source": []
  },
  {
   "cell_type": "markdown",
   "id": "e0029b13",
   "metadata": {},
   "source": [
    "## Trial by making odd & even list\n",
    "Running time error"
   ]
  },
  {
   "cell_type": "code",
   "execution_count": 16,
   "id": "1874cf5e",
   "metadata": {},
   "outputs": [],
   "source": [
    "i=1\n",
    "even_list=[]\n",
    "odd_list=[]\n",
    "while i<n+1:\n",
    "    if i%2==1:\n",
    "        odd_list.append(i)\n",
    "    elif i%2==0:\n",
    "        even_list.append(i) \n",
    "    i=i+1"
   ]
  },
  {
   "cell_type": "code",
   "execution_count": 17,
   "id": "b5620ab4",
   "metadata": {},
   "outputs": [
    {
     "data": {
      "text/plain": [
       "[1, 3, 5, 7, 9]"
      ]
     },
     "execution_count": 17,
     "metadata": {},
     "output_type": "execute_result"
    }
   ],
   "source": [
    "odd_list"
   ]
  },
  {
   "cell_type": "code",
   "execution_count": 18,
   "id": "2abcfd4e",
   "metadata": {},
   "outputs": [
    {
     "data": {
      "text/plain": [
       "[2, 4, 6, 8, 10]"
      ]
     },
     "execution_count": 18,
     "metadata": {},
     "output_type": "execute_result"
    }
   ],
   "source": [
    "even_list"
   ]
  },
  {
   "cell_type": "code",
   "execution_count": 21,
   "id": "c79e49fd",
   "metadata": {},
   "outputs": [],
   "source": [
    "S=[]\n",
    "for item in odd_list:\n",
    "    S.append(item)\n",
    "for item in even_list:\n",
    "    S.append(item)"
   ]
  },
  {
   "cell_type": "code",
   "execution_count": 24,
   "id": "dcfc6a8b",
   "metadata": {},
   "outputs": [
    {
     "name": "stdout",
     "output_type": "stream",
     "text": [
      "5\n"
     ]
    }
   ],
   "source": [
    "print(S[k-1])"
   ]
  },
  {
   "cell_type": "code",
   "execution_count": null,
   "id": "9d6b06b2",
   "metadata": {},
   "outputs": [],
   "source": []
  }
 ],
 "metadata": {
  "kernelspec": {
   "display_name": "Python 3 (ipykernel)",
   "language": "python",
   "name": "python3"
  },
  "language_info": {
   "codemirror_mode": {
    "name": "ipython",
    "version": 3
   },
   "file_extension": ".py",
   "mimetype": "text/x-python",
   "name": "python",
   "nbconvert_exporter": "python",
   "pygments_lexer": "ipython3",
   "version": "3.9.7"
  }
 },
 "nbformat": 4,
 "nbformat_minor": 5
}
