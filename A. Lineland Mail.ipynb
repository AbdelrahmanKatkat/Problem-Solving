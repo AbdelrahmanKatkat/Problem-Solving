{
 "cells": [
  {
   "cell_type": "markdown",
   "id": "8b9a226d",
   "metadata": {},
   "source": [
    "All cities of Lineland are located on the Ox coordinate axis. Thus, each city is associated with its position xi — a coordinate on the Ox axis. No two cities are located at a single point.\n",
    "\n",
    "Lineland residents love to send letters to each other. A person may send a letter only if the recipient lives in another city (because if they live in the same city, then it is easier to drop in).\n",
    "\n",
    "Strange but true, the cost of sending the letter is exactly equal to the distance between the sender's city and the recipient's city.\n",
    "\n",
    "For each city calculate two values ​​mini and maxi, where mini is the minimum cost of sending a letter from the i-th city to some other city, and maxi is the the maximum cost of sending a letter from the i-th city to some other city\n",
    "\n",
    "## Input\n",
    "The first line of the input contains integer n (2 ≤ n ≤ 105) — the number of cities in Lineland. The second line contains the sequence of n distinct integers x1, x2, ..., xn ( - 109 ≤ xi ≤ 109), where xi is the x-coordinate of the i-th city. All the xi's are distinct and follow in ascending order.\n",
    "\n",
    "## Output\n",
    "Print n lines, the i-th line must contain two integers mini, maxi, separated by a space, where mini is the minimum cost of sending a letter from the i-th city, and maxi is the maximum cost of sending a letter from the i-th city."
   ]
  },
  {
   "cell_type": "markdown",
   "id": "419ef5c9",
   "metadata": {},
   "source": [
    "## Terminology\n",
    "- N : number of cities \n",
    "- Xi : X-coordinate of I city (Ascending) "
   ]
  },
  {
   "cell_type": "markdown",
   "id": "4168bb5f",
   "metadata": {},
   "source": [
    "## Summary\n",
    "- Constrain: \n",
    "\n",
    "    - Every City have Xi position on Ox Coordinate  \n",
    "\n",
    "    - Letters can only be sent outside Lineland \n",
    "\n",
    "    - Cost of sending letter = Distance to other city \n",
    "\n",
    "- Target: \n",
    "\n",
    "    - Calculate min, max cost of letters \n",
    "\n",
    "- I/P: \n",
    "\n",
    "    - N : number of cities \n",
    "\n",
    "    - Xi : X-coordinate of I city (Ascending) \n",
    "\n",
    "- O/P: \n",
    "\n",
    "    - Print N lines contains min+' '+max "
   ]
  },
  {
   "cell_type": "markdown",
   "id": "f831d6bb",
   "metadata": {},
   "source": [
    "## Idea\n",
    "- Turn Xi into list\n",
    "- Make a Temp_list for each element \n",
    "- Get min, max for each element (it sorts them too)"
   ]
  },
  {
   "cell_type": "markdown",
   "id": "d9bee2df",
   "metadata": {},
   "source": [
    "## Submitted with Min/ Max fun"
   ]
  },
  {
   "cell_type": "code",
   "execution_count": 312,
   "id": "05ee2b5a",
   "metadata": {},
   "outputs": [
    {
     "name": "stdout",
     "output_type": "stream",
     "text": [
      "4\n",
      "-5 -2 2 7\n",
      "3 12\n",
      "3 9\n",
      "4 7\n",
      "5 12\n"
     ]
    }
   ],
   "source": [
    "## Min/Max Function Bubble sort\n",
    "def Bubble_sort(list):\n",
    "    y=0\n",
    "    n=len(list)\n",
    "    while y<n-1:\n",
    "        i=0\n",
    "        while i<n-1:\n",
    "            if list[i+1]<list[i]:\n",
    "                temp=list[i]\n",
    "                list[i]=list[i+1]\n",
    "                list[i+1]=temp\n",
    "            i=i+1\n",
    "        y=y+1\n",
    "    return list\n",
    "\n",
    "\n",
    "## I/P\n",
    "n=int(input())\n",
    "Xi=input()\n",
    "\n",
    "\n",
    "## Turn I/P to List\n",
    "i=0\n",
    "Xi_list=[]\n",
    "while i<n:\n",
    "    Xi_list.append(int(Xi.split(' ')[i]))\n",
    "    i=i+1\n",
    "    \n",
    "    \n",
    "## Sum Distance based on sign\n",
    "for item in Xi_list:\n",
    "    #print('item=',item)\n",
    "    i=0\n",
    "    Temp_list=[]\n",
    "    Min_Max_list=[]\n",
    "    while i<n:\n",
    "        #print(i)\n",
    "        \n",
    "        ## To exclude current element \n",
    "        if item==Xi_list[i] and i<n-1:\n",
    "            i=i+1\n",
    "            #print(i)\n",
    "            \n",
    "            \n",
    "            \n",
    "        ## Both Number is negative\n",
    "        if item<=0 and Xi_list[i]<=0 and item!=Xi_list[i]:\n",
    "            if item>Xi_list[i]:         ## Current is bigger\n",
    "                Temp_list.append(item-Xi_list[i])\n",
    "            else:\n",
    "                Temp_list.append(abs(item)+Xi_list[i])\n",
    "            #print(Temp_list)\n",
    "            \n",
    "           \n",
    "        \n",
    "        ## Both number is Positive\n",
    "        elif item>=0 and Xi_list[i]>=0 and item!=Xi_list[i]:   ## Current is bigger\n",
    "            Temp_list.append(abs(Xi_list[i]-item))\n",
    "            #print(Temp_list)\n",
    "           \n",
    "        \n",
    "        \n",
    "        ## -ve, and +ve\n",
    "        elif item*Xi_list[i]<=0 and item!=Xi_list[i]:\n",
    "            if item>Xi_list[i]:        ## Current is +ve\n",
    "                Temp_list.append(item-Xi_list[i])\n",
    "            else:                      ## Current is -ve\n",
    "                Temp_list.append(abs(item)+Xi_list[i])\n",
    "            #print(Temp_list)\n",
    "            \n",
    "        i=i+1\n",
    "    Bubble_sort(Temp_list)\n",
    "    Temp_list_max=Temp_list[len(Temp_list)-1]\n",
    "    Temp_list_min=Temp_list[0]\n",
    "    Min_Max_list.append(Temp_list_min)\n",
    "    #print(min(Temp_list))\n",
    "    Min_Max_list.append(Temp_list_max)\n",
    "    #print(max(Temp_list))\n",
    "    print(str(Min_Max_list[0])+' '+str(Min_Max_list[1]))"
   ]
  },
  {
   "cell_type": "markdown",
   "id": "214d88c0",
   "metadata": {},
   "source": [
    "## Submitted with Bubble Sort "
   ]
  },
  {
   "cell_type": "code",
   "execution_count": null,
   "id": "24a7d65a",
   "metadata": {},
   "outputs": [],
   "source": [
    "## Min/Max Function Bubble sort\n",
    "def Bubble_sort(list):\n",
    "    y=0\n",
    "    n=len(list)\n",
    "    while y<n-1:\n",
    "        i=0 \n",
    "        while i<n-1:\n",
    "            if list[i+1]<list[i]:\n",
    "                temp=list[i]\n",
    "                list[i]=list[i+1]\n",
    "                list[i+1]=temp\n",
    "            i=i+1\n",
    "        y=y+1\n",
    "    return list\n",
    "\n",
    "\n",
    "## I/P\n",
    "n=int(input())\n",
    "Xi=input()\n",
    "\n",
    "\n",
    "## Turn I/P to List\n",
    "i=0\n",
    "Xi_list=[]\n",
    "while i<n:\n",
    "    Xi_list.append(int(Xi.split(' ')[i]))\n",
    "    i=i+1\n",
    "    \n",
    "    \n",
    "## Sum Distance based on sign\n",
    "for item in Xi_list:\n",
    "    if item>=0:\n",
    "        Maximum_Distance=item-\n",
    "    \n",
    "    \n",
    "    \n",
    "    #print('item=',item)\n",
    "    i=0\n",
    "    Temp_list=[]\n",
    "    Min_Max_list=[]\n",
    "    while i<n:\n",
    "        #print(i)\n",
    "        \n",
    "        ## To exclude current element \n",
    "        if item==Xi_list[i] and i<n-1:\n",
    "            i=i+1\n",
    "            #print(i)\n",
    "            \n",
    "            \n",
    "            \n",
    "        ## Both Number is negative\n",
    "        if item<=0 and Xi_list[i]<=0 and item!=Xi_list[i]:\n",
    "            if item>Xi_list[i]:         ## Current is bigger\n",
    "                Temp_list.append(item-Xi_list[i])\n",
    "            else:\n",
    "                Temp_list.append(abs(item)+Xi_list[i])\n",
    "            #print(Temp_list)\n",
    "            \n",
    "           \n",
    "        \n",
    "        ## Both number is Positive\n",
    "        elif item>=0 and Xi_list[i]>=0 and item!=Xi_list[i]:   ## Current is bigger\n",
    "            Temp_list.append(abs(Xi_list[i]-item))\n",
    "            #print(Temp_list)\n",
    "           \n",
    "        \n",
    "        \n",
    "        ## -ve, and +ve\n",
    "        elif item*Xi_list[i]<=0 and item!=Xi_list[i]:\n",
    "            if item>Xi_list[i]:        ## Current is +ve\n",
    "                Temp_list.append(item-Xi_list[i])\n",
    "            else:                      ## Current is -ve\n",
    "                Temp_list.append(abs(item)+Xi_list[i])\n",
    "            #print(Temp_list)\n",
    "            \n",
    "        i=i+1\n",
    "    Bubble_sort(Temp_list)\n",
    "    Temp_list_max=Temp_list[len(Temp_list)-1]\n",
    "    Temp_list_min=Temp_list[0]\n",
    "    Min_Max_list.append(Temp_list_min)\n",
    "    #print(min(Temp_list))\n",
    "    Min_Max_list.append(Temp_list_max)\n",
    "    #print(max(Temp_list))\n",
    "    print(str(Min_Max_list[0])+' '+str(Min_Max_list[1]))"
   ]
  },
  {
   "cell_type": "code",
   "execution_count": 306,
   "id": "58d3853f",
   "metadata": {},
   "outputs": [
    {
     "data": {
      "text/plain": [
       "[1, 2, 3, 4, 6, 10]"
      ]
     },
     "execution_count": 306,
     "metadata": {},
     "output_type": "execute_result"
    }
   ],
   "source": [
    "Bubble_sort([1,4,3,6,2,10])"
   ]
  },
  {
   "cell_type": "markdown",
   "id": "f157c6fd",
   "metadata": {},
   "source": [
    "## Trials"
   ]
  },
  {
   "cell_type": "code",
   "execution_count": 1,
   "id": "77afaa11",
   "metadata": {},
   "outputs": [],
   "source": [
    "def min(list):\n",
    "    y=0\n",
    "    n=len(list)\n",
    "    while y<n-1:\n",
    "        i=0\n",
    "        while i<n-1:\n",
    "            if list[i+1]<list[i]:\n",
    "                temp=list[i]\n",
    "                list[i]=list[i+1]\n",
    "                list[i+1]=temp\n",
    "            i=i+1\n",
    "        y=y+1\n",
    "    list_min=list[0]\n",
    "    return list_min"
   ]
  },
  {
   "cell_type": "code",
   "execution_count": 2,
   "id": "603860e2",
   "metadata": {},
   "outputs": [],
   "source": [
    "def max(list):\n",
    "    y=0\n",
    "    n=len(list)\n",
    "    while y<n-1:\n",
    "        i=0\n",
    "        while i<n-1:\n",
    "            if list[i+1]<list[i]:\n",
    "                temp=list[i]\n",
    "                list[i]=list[i+1]\n",
    "                list[i+1]=temp\n",
    "            i=i+1\n",
    "        y=y+1\n",
    "    list_max=list[len(list)-1]\n",
    "    return list_max"
   ]
  },
  {
   "cell_type": "code",
   "execution_count": 3,
   "id": "26ab1b00",
   "metadata": {},
   "outputs": [],
   "source": [
    "def Bubble_sort(list):\n",
    "    y=0\n",
    "    n=len(list)\n",
    "    while y<n-1:\n",
    "        i=0\n",
    "        while i<n-1:\n",
    "            if list[i+1]<list[i]:\n",
    "                temp=list[i]\n",
    "                list[i]=list[i+1]\n",
    "                list[i+1]=temp\n",
    "            i=i+1\n",
    "        y=y+1\n",
    "    return list"
   ]
  },
  {
   "cell_type": "code",
   "execution_count": 31,
   "id": "7bf8787d",
   "metadata": {},
   "outputs": [],
   "source": [
    "i=0\n",
    "Xi_list=[]\n",
    "while i<n:\n",
    "    Xi_list.append(int(Xi.split(' ')[i]))\n",
    "    i=i+1"
   ]
  },
  {
   "cell_type": "code",
   "execution_count": null,
   "id": "8c78384b",
   "metadata": {},
   "outputs": [],
   "source": [
    "for item in Xi_list:\n",
    "    print('item=',item)\n",
    "    i=0\n",
    "    Temp_list=[]\n",
    "    Min_Max_list=[]\n",
    "    while i<n:\n",
    "        print(i)\n",
    "        print(Xi_list[i])\n",
    "        \n",
    "        ## To exclude current element \n",
    "        if item==Xi_list[i] and i<n:\n",
    "            i=i+1\n",
    "            print(i)\n",
    "  \n",
    "            \n",
    "            \n",
    "        ## Both Number is negative\n",
    "        if item<=0 and Xi_list[i]<=0 and i<n:\n",
    "            if item>Xi_list[i]:         ## Current is bigger\n",
    "                Temp_list.append(item-Xi_list[i])\n",
    "            else:\n",
    "                Temp_list.append(abs(item)+Xi_list[i])\n",
    "            print(Temp_list)\n",
    "            \n",
    "           \n",
    "        \n",
    "        ## Both number is Positive\n",
    "        elif item>=0 and Xi_list[i]>=0 and i<n:## Current is bigger\n",
    "            Temp_list.append(abs(Xi_list[i]-item))\n",
    "            print(Temp_list)\n",
    "            \n",
    "           \n",
    "        \n",
    "        \n",
    "        ## -ve, and +ve\n",
    "        elif item*Xi_list[i]<=0 and i<n:\n",
    "            if item>Xi_list[i]:        ## Current is +ve\n",
    "                Temp_list.append(item-Xi_list[i])\n",
    "            else:                      ## Current is -ve\n",
    "                Temp_list.append(abs(item)+Xi_list[i])\n",
    "            print(Temp_list)\n",
    "            \n",
    "        i=i+1\n",
    "    Min_Max_list.append(min(Temp_list))\n",
    "    print(min(Temp_list))\n",
    "    Min_Max_list.append(max(Temp_list))\n",
    "    print(max(Temp_list))\n",
    "    print(str(Min_Max_list[0])+' '+str(Min_Max_list[1]))\n",
    "        \n",
    "\n"
   ]
  },
  {
   "cell_type": "markdown",
   "id": "fb9a7a5c",
   "metadata": {},
   "source": [
    "## Trials After considering I/P is in order"
   ]
  },
  {
   "cell_type": "code",
   "execution_count": 33,
   "id": "7692104d",
   "metadata": {},
   "outputs": [
    {
     "name": "stdout",
     "output_type": "stream",
     "text": [
      "2\n"
     ]
    }
   ],
   "source": [
    "n=int(input())"
   ]
  },
  {
   "cell_type": "code",
   "execution_count": 34,
   "id": "d7c61417",
   "metadata": {},
   "outputs": [
    {
     "name": "stdout",
     "output_type": "stream",
     "text": [
      "-1 1\n"
     ]
    }
   ],
   "source": [
    "Xi=input()"
   ]
  },
  {
   "cell_type": "code",
   "execution_count": 35,
   "id": "2f308384",
   "metadata": {},
   "outputs": [],
   "source": [
    "i=0\n",
    "Xi_list=[]\n",
    "while i<n:\n",
    "    Xi_list.append(int(Xi.split(\" \")[i]))\n",
    "    Xi_Max=Xi_list[-1]\n",
    "    Xi_Min=Xi_list[0]\n",
    "    i=i+1"
   ]
  },
  {
   "cell_type": "code",
   "execution_count": 38,
   "id": "29f54192",
   "metadata": {},
   "outputs": [
    {
     "name": "stdout",
     "output_type": "stream",
     "text": [
      "2 2\n",
      "2 2\n"
     ]
    }
   ],
   "source": [
    "i=0\n",
    "for item in Xi_list:\n",
    "    Min_Max_list=[]\n",
    "    ## Element is min\n",
    "    if item==Xi_Min:\n",
    "        Min_Max_list.append(abs(Xi_Min-Xi_list[i+1]))\n",
    "        Min_Max_list.append(abs(Xi_Min-Xi_Max))\n",
    "        \n",
    "    ## Element is max\n",
    "    elif item== Xi_Max:\n",
    "        Min_Max_list.append(abs(Xi_Max-Xi_list[i-1]))\n",
    "        Min_Max_list.append(abs(Xi_Max-Xi_Min))\n",
    "        \n",
    "    ## Element is in between\n",
    "    else:\n",
    "        \n",
    "        ## Min distance to next element\n",
    "        if abs(item-Xi_list[i+1])>=abs(item-Xi_list[i-1]):\n",
    "            Min_Max_list.append(abs(item-Xi_list[i-1]))\n",
    "        elif abs(item-Xi_list[i+1])<abs(item-Xi_list[i-1]):\n",
    "            Min_Max_list.append(abs(item-Xi_list[i+1]))\n",
    "            \n",
    "        ## Max distance  \n",
    "        \n",
    "            ## Distance to Max is bigger or equal to Min\n",
    "        if abs(item-Xi_Max)>=abs(item-Xi_Min):\n",
    "            Min_Max_list.append(abs(item-Xi_Max))\n",
    "            \n",
    "            ## Distance to Min is bigger than Min  \n",
    "        elif abs(item-Xi_Max)<abs(item-Xi_Min):\n",
    "            \n",
    "            Min_Max_list.append(abs(item-Xi_Min))\n",
    "            \n",
    "    i=i+1\n",
    "    ## 0 index for min, and 1 index for max\n",
    "    print(str(Min_Max_list[0])+' '+str(Min_Max_list[1]))"
   ]
  },
  {
   "cell_type": "markdown",
   "id": "3353e5a3",
   "metadata": {},
   "source": [
    "## Submitted after ascending "
   ]
  },
  {
   "cell_type": "code",
   "execution_count": 39,
   "id": "9006e289",
   "metadata": {},
   "outputs": [
    {
     "name": "stdout",
     "output_type": "stream",
     "text": [
      "4\n",
      "-5 -2 2 7\n",
      "3 12\n",
      "3 9\n",
      "4 7\n",
      "5 12\n"
     ]
    }
   ],
   "source": [
    "n=int(input())\n",
    "Xi=input()\n",
    "i=0\n",
    "Xi_list=[]\n",
    "while i<n:\n",
    "    Xi_list.append(int(Xi.split(\" \")[i]))\n",
    "    Xi_Max=Xi_list[-1]\n",
    "    Xi_Min=Xi_list[0]\n",
    "    i=i+1\n",
    "i=0\n",
    "for item in Xi_list:\n",
    "    Min_Max_list=[]\n",
    "    ## Element is min\n",
    "    if item==Xi_Min:\n",
    "        Min_Max_list.append(abs(Xi_Min-Xi_list[i+1]))\n",
    "        Min_Max_list.append(abs(Xi_Min-Xi_Max))\n",
    "        \n",
    "    ## Element is max\n",
    "    elif item== Xi_Max:\n",
    "        Min_Max_list.append(abs(Xi_Max-Xi_list[i-1]))\n",
    "        Min_Max_list.append(abs(Xi_Max-Xi_Min))\n",
    "        \n",
    "    ## Element is in between\n",
    "    else:\n",
    "        \n",
    "        ## Min distance to next element\n",
    "        if abs(item-Xi_list[i+1])>=abs(item-Xi_list[i-1]):\n",
    "            Min_Max_list.append(abs(item-Xi_list[i-1]))\n",
    "        elif abs(item-Xi_list[i+1])<abs(item-Xi_list[i-1]):\n",
    "            Min_Max_list.append(abs(item-Xi_list[i+1]))\n",
    "            \n",
    "        ## Max distance  \n",
    "        \n",
    "            ## Distance to Max is bigger or equal to Min\n",
    "        if abs(item-Xi_Max)>=abs(item-Xi_Min):\n",
    "            Min_Max_list.append(abs(item-Xi_Max))\n",
    "            \n",
    "            ## Distance to Min is bigger than Min  \n",
    "        elif abs(item-Xi_Max)<abs(item-Xi_Min):\n",
    "            \n",
    "            Min_Max_list.append(abs(item-Xi_Min))\n",
    "            \n",
    "    i=i+1\n",
    "    ## 0 index for min, and 1 index for max\n",
    "    print(str(Min_Max_list[0])+' '+str(Min_Max_list[1]))"
   ]
  },
  {
   "cell_type": "code",
   "execution_count": 76,
   "id": "779b4ab0",
   "metadata": {},
   "outputs": [
    {
     "name": "stdout",
     "output_type": "stream",
     "text": [
      "2\n",
      "-1 1\n",
      "2 2\n",
      "2 2\n"
     ]
    }
   ],
   "source": [
    "n=int(input())\n",
    "Xi=input()\n",
    "Xi_list=[]\n",
    "i=0\n",
    "while i<n:\n",
    "    Xi_list.append(int(Xi.split(\" \")[i]))\n",
    "    Xi_Max=Xi_list[-1]\n",
    "    Xi_Min=Xi_list[0]\n",
    "    i=i+1\n",
    "i=0\n",
    "for item in Xi_list:\n",
    "    Min_Max_list=[]\n",
    "    ## Element is min\n",
    "    if item==Xi_Min:\n",
    "        Min_Max_list.append(abs(Xi_Min-Xi_list[i+1]))\n",
    "        Min_Max_list.append(abs(Xi_Min-Xi_Max))\n",
    "        \n",
    "    ## Element is max\n",
    "    elif item== Xi_Max:\n",
    "        Min_Max_list.append(abs(Xi_Max-Xi_list[i-1]))\n",
    "        Min_Max_list.append(abs(Xi_Max-Xi_Min))\n",
    "        \n",
    "    ## Element is in between\n",
    "    else:\n",
    "        Min_Max_list.append(min([abs(item-Xi_list[i-1]),abs(item-Xi_list[i+1])]))\n",
    "        Min_Max_list.append(max([abs(item-Xi_Max),abs(item-Xi_Min)]))\n",
    "    i=i+1\n",
    "    ## 0 index for min, and 1 index for max\n",
    "    print(str(Min_Max_list[0])+' '+str(Min_Max_list[1]))  "
   ]
  },
  {
   "cell_type": "code",
   "execution_count": 1,
   "id": "44404d6c",
   "metadata": {},
   "outputs": [
    {
     "name": "stdout",
     "output_type": "stream",
     "text": [
      "4\n",
      "-5 -2 2 7\n"
     ]
    },
    {
     "ename": "TypeError",
     "evalue": "int() argument must be a string, a bytes-like object or a number, not 'list'",
     "output_type": "error",
     "traceback": [
      "\u001b[1;31m---------------------------------------------------------------------------\u001b[0m",
      "\u001b[1;31mTypeError\u001b[0m                                 Traceback (most recent call last)",
      "\u001b[1;32mC:\\Users\\ABDELR~1\\AppData\\Local\\Temp/ipykernel_5624/2312194581.py\u001b[0m in \u001b[0;36m<module>\u001b[1;34m\u001b[0m\n\u001b[0;32m      1\u001b[0m \u001b[0mn\u001b[0m\u001b[1;33m=\u001b[0m\u001b[0mint\u001b[0m\u001b[1;33m(\u001b[0m\u001b[0minput\u001b[0m\u001b[1;33m(\u001b[0m\u001b[1;33m)\u001b[0m\u001b[1;33m)\u001b[0m\u001b[1;33m\u001b[0m\u001b[1;33m\u001b[0m\u001b[0m\n\u001b[0;32m      2\u001b[0m \u001b[0mXi\u001b[0m\u001b[1;33m=\u001b[0m\u001b[0minput\u001b[0m\u001b[1;33m(\u001b[0m\u001b[1;33m)\u001b[0m\u001b[1;33m\u001b[0m\u001b[1;33m\u001b[0m\u001b[0m\n\u001b[1;32m----> 3\u001b[1;33m \u001b[0mXi_list\u001b[0m\u001b[1;33m=\u001b[0m\u001b[0mint\u001b[0m\u001b[1;33m(\u001b[0m\u001b[0mXi\u001b[0m\u001b[1;33m.\u001b[0m\u001b[0msplit\u001b[0m\u001b[1;33m(\u001b[0m\u001b[1;34m\" \"\u001b[0m\u001b[1;33m)\u001b[0m\u001b[1;33m)\u001b[0m\u001b[1;33m\u001b[0m\u001b[1;33m\u001b[0m\u001b[0m\n\u001b[0m\u001b[0;32m      4\u001b[0m \u001b[0mXi_Max\u001b[0m\u001b[1;33m=\u001b[0m\u001b[0mXi_list\u001b[0m\u001b[1;33m[\u001b[0m\u001b[1;33m-\u001b[0m\u001b[1;36m1\u001b[0m\u001b[1;33m]\u001b[0m\u001b[1;33m\u001b[0m\u001b[1;33m\u001b[0m\u001b[0m\n\u001b[0;32m      5\u001b[0m \u001b[0mXi_Min\u001b[0m\u001b[1;33m=\u001b[0m\u001b[0mXi_list\u001b[0m\u001b[1;33m[\u001b[0m\u001b[1;36m0\u001b[0m\u001b[1;33m]\u001b[0m\u001b[1;33m\u001b[0m\u001b[1;33m\u001b[0m\u001b[0m\n",
      "\u001b[1;31mTypeError\u001b[0m: int() argument must be a string, a bytes-like object or a number, not 'list'"
     ]
    }
   ],
   "source": [
    "n=int(input())\n",
    "Xi=input()\n",
    "Xi_list=Xi.split(\" \")\n",
    "Xi_Max=int(Xi_list[-1])\n",
    "Xi_Min=int(Xi_list[0])\n",
    "i=0\n",
    "for item in Xi_list:\n",
    "    Min_Max_list=[]\n",
    "    ## Element is min\n",
    "    if item==Xi_Min:\n",
    "        Min_Max_list.append(abs(Xi_Min-int(Xi_list[i+1])))\n",
    "        Min_Max_list.append(abs(Xi_Min-Xi_Max))\n",
    "        \n",
    "    ## Element is max\n",
    "    elif item== Xi_Max:\n",
    "        Min_Max_list.append(abs(Xi_Max-int(Xi_list[i-1])))\n",
    "        Min_Max_list.append(abs(Xi_Max-Xi_Min))\n",
    "        \n",
    "    ## Element is in between\n",
    "    else:\n",
    "        Min_Max_list.append(min([abs(item-int(Xi_list[i-1])),abs(item-int(Xi_list[i+1]))]))\n",
    "        Min_Max_list.append(max([abs(item-Xi_Max),abs(item-Xi_Min)]))\n",
    "    i=i+1\n",
    "    ## 0 index for min, and 1 index for max\n",
    "    print(str(Min_Max_list[0])+' '+str(Min_Max_list[1]))  "
   ]
  },
  {
   "cell_type": "code",
   "execution_count": 2,
   "id": "0e18028d",
   "metadata": {},
   "outputs": [
    {
     "name": "stdout",
     "output_type": "stream",
     "text": [
      "2\n",
      "-1 1\n"
     ]
    }
   ],
   "source": [
    "n=int(input())\n",
    "Xi=input()\n",
    "Xi_list=Xi.split(\" \")"
   ]
  },
  {
   "cell_type": "code",
   "execution_count": 3,
   "id": "28db0f1d",
   "metadata": {},
   "outputs": [
    {
     "data": {
      "text/plain": [
       "['-1', '1']"
      ]
     },
     "execution_count": 3,
     "metadata": {},
     "output_type": "execute_result"
    }
   ],
   "source": [
    "Xi_list"
   ]
  },
  {
   "cell_type": "code",
   "execution_count": null,
   "id": "b6fd79f8",
   "metadata": {},
   "outputs": [],
   "source": []
  }
 ],
 "metadata": {
  "kernelspec": {
   "display_name": "Python 3 (ipykernel)",
   "language": "python",
   "name": "python3"
  },
  "language_info": {
   "codemirror_mode": {
    "name": "ipython",
    "version": 3
   },
   "file_extension": ".py",
   "mimetype": "text/x-python",
   "name": "python",
   "nbconvert_exporter": "python",
   "pygments_lexer": "ipython3",
   "version": "3.9.7"
  }
 },
 "nbformat": 4,
 "nbformat_minor": 5
}
