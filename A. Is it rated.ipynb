{
 "cells": [
  {
   "cell_type": "markdown",
   "id": "60497e19",
   "metadata": {},
   "source": [
    "Here it is. The Ultimate Question of Competitive Programming, Codeforces, and Everything. And you are here to answer it.\n",
    "\n",
    "Another Codeforces round has been conducted. No two participants have the same number of points. For each participant, from the top to the bottom of the standings, their rating before and after the round is known.\n",
    "\n",
    "## Constrain\n",
    "- It's known that if at least one participant's rating has changed, then the round was rated for sure.\n",
    "\n",
    "- It's also known that if the round was rated and a participant with lower rating took a better place in the standings than a participant with higher rating, then at least one round participant's rating has changed.\n",
    "\n",
    "In this problem, you should not make any other assumptions about the rating system.\n",
    "\n",
    "## Target\n",
    "Determine if the current round is rated, unrated, or it's impossible to determine whether it is rated of not.\n",
    "\n",
    "## Input\n",
    "- The first line contains a single integer n (2 ≤ n ≤ 1000) — the number of round participants.\n",
    "\n",
    "- Each of the next n lines contains two integers ai and bi (1 ≤ ai, bi ≤ 4126): the rating of the i-th participant before and after the round, respectively. \n",
    "\n",
    "The participants are listed in order from the top to the bottom of the standings.\n",
    "\n",
    "## Output\n",
    "- If the round is rated for sure, print \"rated\".\n",
    "    - Someone rating changed\n",
    "- If the round is unrated for sure, print \"unrated\".\n",
    "    - No rate changed & score is not in order\n",
    "- If it's impossible to determine whether the round is rated or not, print \"maybe\".\n",
    "    - No change in rate, but scores are in order\n",
    "\n",
    "## Terminology\n",
    "- n number of participants\n",
    "- ai: rate before contest\n",
    "- bi: rate after contest\n",
    "\n",
    "## Idea\n",
    "- Make a list for before and after\n",
    "- Compare them is three cases to get result\n",
    "    - ai!=bi\n",
    "    - ai==bi and ai!=sorted(ai)\n",
    "    - ai==bi and ai==sorted(ai)"
   ]
  },
  {
   "cell_type": "markdown",
   "id": "6bd8c44b",
   "metadata": {},
   "source": [
    "## Submitted"
   ]
  },
  {
   "cell_type": "code",
   "execution_count": 7,
   "id": "1730daf0",
   "metadata": {},
   "outputs": [
    {
     "name": "stdout",
     "output_type": "stream",
     "text": [
      "5\n",
      "3123 3123 2777 2777 2246 2246 2246 2246 1699 1699\n",
      "maybe\n"
     ]
    }
   ],
   "source": [
    "n=int(input())\n",
    "ai_bi=input()\n",
    "ai_bi_list=ai_bi.split(\" \")\n",
    "i=1\n",
    "ai_list=[]\n",
    "bi_list=[]\n",
    "for item in ai_bi_list:\n",
    "    if i%2==1:\n",
    "        ai_list.append(int(item))\n",
    "    elif i%2==0:\n",
    "        bi_list.append(int(item))\n",
    "    i=i+1\n",
    "if ai_list!=bi_list:\n",
    "    print('rated')\n",
    "elif ai_list==bi_list and ai_list!=sorted(ai_list,reverse=True):\n",
    "    print('unrated')\n",
    "elif ai_list==bi_list and ai_list==sorted(ai_list,reverse=True):\n",
    "    print('maybe')"
   ]
  },
  {
   "cell_type": "code",
   "execution_count": 17,
   "id": "402f5758",
   "metadata": {},
   "outputs": [
    {
     "name": "stdout",
     "output_type": "stream",
     "text": [
      "6\n",
      "3060 3060\n",
      "2194 2194\n",
      "2876 2903\n",
      "2624 2624\n",
      "3007 2991\n",
      "2884 2884\n",
      "rated\n"
     ]
    }
   ],
   "source": [
    "n=int(input())\n",
    "i=0\n",
    "ai_bi_list=[]\n",
    "while i<n:\n",
    "    ai_bi_list.append(input())\n",
    "    ai_bi_list[i]=ai_bi_list[i].split(' ')\n",
    "    i=i+1\n",
    "\n",
    "## List making    \n",
    "i=0\n",
    "ai_list=[]\n",
    "bi_list=[]\n",
    "while i<n:\n",
    "    ai_list.append(int(ai_bi_list[i][0]))\n",
    "    bi_list.append(int(ai_bi_list[i][1]))\n",
    "    i=i+1\n",
    "    \n",
    "## Comparison \n",
    "if ai_list!=bi_list:\n",
    "    print('rated')\n",
    "elif ai_list==bi_list and ai_list!=sorted(ai_list,reverse=True):\n",
    "    print('unrated')\n",
    "elif ai_list==bi_list and ai_list==sorted(ai_list,reverse=True):\n",
    "    print('maybe')"
   ]
  },
  {
   "cell_type": "markdown",
   "id": "7f9ec116",
   "metadata": {},
   "source": [
    "## Trials"
   ]
  },
  {
   "cell_type": "code",
   "execution_count": 81,
   "id": "78300a27",
   "metadata": {},
   "outputs": [
    {
     "name": "stdout",
     "output_type": "stream",
     "text": [
      "5\n"
     ]
    }
   ],
   "source": [
    "n=int(input())"
   ]
  },
  {
   "cell_type": "code",
   "execution_count": 8,
   "id": "1317f682",
   "metadata": {},
   "outputs": [
    {
     "name": "stdout",
     "output_type": "stream",
     "text": [
      "3050 4056\n"
     ]
    }
   ],
   "source": [
    "x=input()"
   ]
  },
  {
   "cell_type": "code",
   "execution_count": 9,
   "id": "2b78d151",
   "metadata": {},
   "outputs": [
    {
     "data": {
      "text/plain": [
       "'0'"
      ]
     },
     "execution_count": 9,
     "metadata": {},
     "output_type": "execute_result"
    }
   ],
   "source": [
    "x.split"
   ]
  },
  {
   "cell_type": "code",
   "execution_count": 112,
   "id": "672c6123",
   "metadata": {},
   "outputs": [
    {
     "name": "stdout",
     "output_type": "stream",
     "text": [
      "3060 3060\n",
      "2194 2194\n",
      "2876 2903\n",
      "2624 2624\n",
      "3007 2991\n",
      "2884 2884\n"
     ]
    }
   ],
   "source": [
    "i=0\n",
    "ai_bi=[]\n",
    "while i<n:\n",
    "    ai_bi.append(input())\n",
    "    ai_bi[i]=ai_bi[i].split(' ')\n",
    "    i=i+1"
   ]
  },
  {
   "cell_type": "code",
   "execution_count": 113,
   "id": "f87b0b41",
   "metadata": {},
   "outputs": [
    {
     "data": {
      "text/plain": [
       "[['3060', '3060'],\n",
       " ['2194', '2194'],\n",
       " ['2876', '2903'],\n",
       " ['2624', '2624'],\n",
       " ['3007', '2991'],\n",
       " ['2884', '2884']]"
      ]
     },
     "execution_count": 113,
     "metadata": {},
     "output_type": "execute_result"
    }
   ],
   "source": [
    "ai_bi"
   ]
  },
  {
   "cell_type": "code",
   "execution_count": 114,
   "id": "a2c2ed2b",
   "metadata": {},
   "outputs": [],
   "source": [
    "i=1\n",
    "ai_list=[]\n",
    "bi_list=[]\n",
    "for item in ai_bi_list:\n",
    "    if i%2==1:\n",
    "        ai_list.append(int(item))\n",
    "    elif i%2==0:\n",
    "        bi_list.append(int(item))\n",
    "    i=i+1"
   ]
  },
  {
   "cell_type": "code",
   "execution_count": 115,
   "id": "1b57d1fe",
   "metadata": {},
   "outputs": [
    {
     "name": "stdout",
     "output_type": "stream",
     "text": [
      "rated\n"
     ]
    }
   ],
   "source": [
    "if ai_list!=bi_list:\n",
    "    print('rated')\n",
    "elif ai_list==bi_list and ai_list!=sorted(ai_list,reverse=True):\n",
    "    print('unrated')\n",
    "else:\n",
    "    print('maybe')"
   ]
  },
  {
   "cell_type": "code",
   "execution_count": null,
   "id": "290bdd88",
   "metadata": {},
   "outputs": [],
   "source": []
  }
 ],
 "metadata": {
  "kernelspec": {
   "display_name": "Python 3 (ipykernel)",
   "language": "python",
   "name": "python3"
  },
  "language_info": {
   "codemirror_mode": {
    "name": "ipython",
    "version": 3
   },
   "file_extension": ".py",
   "mimetype": "text/x-python",
   "name": "python",
   "nbconvert_exporter": "python",
   "pygments_lexer": "ipython3",
   "version": "3.9.7"
  }
 },
 "nbformat": 4,
 "nbformat_minor": 5
}
